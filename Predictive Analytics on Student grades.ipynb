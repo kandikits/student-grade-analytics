{
 "cells": [
  {
   "cell_type": "markdown",
   "id": "0a989152",
   "metadata": {},
   "source": [
    "### Predictive Analytics on Student grades"
   ]
  },
  {
   "cell_type": "markdown",
   "id": "0bc175db",
   "metadata": {},
   "source": [
    "Predictive Analytics to estimate grades of students by exploring and analysing academic and non-academic information of students\n",
    "\n",
    "<b>Note:</b> Update variables under <b>Variables</b> section to configure inputs if required before running the notebook.\n",
    "\n",
    "The cell <b>#1</b> has inputs and the cell <b>#53</b> reveals output\n",
    "\n",
    "To run notebook cell by cell, click on a cell and click <b>Run</b> button below the <b>Menu</b> bar. Or to run all cells, select <b>Cell --> Run All</b> from Menu bar."
   ]
  },
  {
   "cell_type": "markdown",
   "id": "6b692b1d",
   "metadata": {},
   "source": [
    "#### Variables"
   ]
  },
  {
   "cell_type": "code",
   "execution_count": 1,
   "id": "14b8f333",
   "metadata": {},
   "outputs": [],
   "source": [
    "INPUT_FILE=\"student-mat.csv\"\n",
    "OUTPUT_VARIABLE = 'G3' #variable to be predicted"
   ]
  },
  {
   "cell_type": "markdown",
   "id": "48cc74ca",
   "metadata": {},
   "source": [
    "###### If there're more than one file, load and club all the files; ignore otherwise"
   ]
  },
  {
   "cell_type": "code",
   "execution_count": 2,
   "id": "61b265da",
   "metadata": {},
   "outputs": [],
   "source": [
    "INPUT_FILE2=\"student-por.csv\""
   ]
  },
  {
   "cell_type": "markdown",
   "id": "0f5a5d4f",
   "metadata": {},
   "source": [
    "#### Import libraries for data analysis"
   ]
  },
  {
   "cell_type": "code",
   "execution_count": 3,
   "id": "27063ea0",
   "metadata": {},
   "outputs": [],
   "source": [
    "import numpy as np\n",
    "import pandas as pd"
   ]
  },
  {
   "cell_type": "markdown",
   "id": "9de47904",
   "metadata": {},
   "source": [
    "#### Import libraries for data visualisation"
   ]
  },
  {
   "cell_type": "code",
   "execution_count": 4,
   "id": "93d802a9",
   "metadata": {},
   "outputs": [],
   "source": [
    "import seaborn as sns\n",
    "import matplotlib.pyplot as plt"
   ]
  },
  {
   "cell_type": "markdown",
   "id": "424c45cf",
   "metadata": {},
   "source": [
    "#### Import libraries for machine learning"
   ]
  },
  {
   "cell_type": "code",
   "execution_count": 5,
   "id": "2a2c3395",
   "metadata": {},
   "outputs": [],
   "source": [
    "from sklearn.linear_model import LinearRegression\n",
    "from sklearn.ensemble import RandomForestRegressor\n",
    "from sklearn.tree import DecisionTreeRegressor\n",
    "from sklearn.svm import SVR"
   ]
  },
  {
   "cell_type": "code",
   "execution_count": 6,
   "id": "99c83375",
   "metadata": {},
   "outputs": [],
   "source": [
    "from sklearn.model_selection import train_test_split\n",
    "from sklearn import metrics"
   ]
  },
  {
   "cell_type": "code",
   "execution_count": 7,
   "id": "ddbc9863",
   "metadata": {},
   "outputs": [],
   "source": [
    "import tensorflow as tf\n",
    "from tensorflow import keras\n",
    "from tensorflow.keras import layers"
   ]
  },
  {
   "cell_type": "markdown",
   "id": "61353dee",
   "metadata": {},
   "source": [
    "####  Description of data to be loaded\n",
    "Attributes for both student-mat.csv (Math course) and student-por.csv (Portuguese language course) datasets:\n",
    "\n",
    "1. school - student's school (binary: 'GP' - Gabriel Pereira or 'MS' - Mousinho da Silveira)\n",
    "2. sex - student's sex (binary: 'F' - female or 'M' - male)\n",
    "3. age - student's age (numeric: from 15 to 22)\n",
    "4. address - student's home address type (binary: 'U' - urban or 'R' - rural)\n",
    "5. famsize - family size (binary: 'LE3' - less or equal to 3 or 'GT3' - greater than 3)\n",
    "6. Pstatus - parent's cohabitation status (binary: 'T' - living together or 'A' - apart)\n",
    "7. Medu - mother's education (numeric: 0 - none, 1 - primary education (4th grade), 2 – 5th to 9th grade, 3 – secondary education or 4 – higher education)\n",
    "8. Fedu - father's education (numeric: 0 - none, 1 - primary education (4th grade), 2 – 5th to 9th grade, 3 – secondary education or 4 – higher education)\n",
    "9. Mjob - mother's job (nominal: 'teacher', 'health' care related, civil 'services' (e.g. administrative or police), 'at_home' or 'other')\n",
    "10. Fjob - father's job (nominal: 'teacher', 'health' care related, civil 'services' (e.g. administrative or police), 'at_home' or 'other')\n",
    "11. reason - reason to choose this school (nominal: close to 'home', school 'reputation', 'course' preference or 'other')\n",
    "12. guardian - student's guardian (nominal: 'mother', 'father' or 'other')\n",
    "13. traveltime - home to school travel time (numeric: 1 - <15 min., 2 - 15 to 30 min., 3 - 30 min. to 1 hour, or 4 - >1 hour)\n",
    "14. studytime - weekly study time (numeric: 1 - <2 hours, 2 - 2 to 5 hours, 3 - 5 to 10 hours, or 4 - >10 hours)\n",
    "15. failures - number of past class failures (numeric: n if 1<=n<3, else 4)\n",
    "16. schoolsup - extra educational support (binary: yes or no)\n",
    "17. famsup - family educational support (binary: yes or no)\n",
    "18. paid - extra paid classes within the course subject (Math or Portuguese) (binary: yes or no)\n",
    "19. activities - extra-curricular activities (binary: yes or no)\n",
    "20. nursery - attended nursery school (binary: yes or no)\n",
    "21. higher - wants to take higher education (binary: yes or no)\n",
    "22. internet - Internet access at home (binary: yes or no)\n",
    "23. romantic - with a romantic relationship (binary: yes or no)\n",
    "24. famrel - quality of family relationships (numeric: from 1 - very bad to 5 - excellent)\n",
    "25. freetime - free time after school (numeric: from 1 - very low to 5 - very high)\n",
    "26. goout - going out with friends (numeric: from 1 - very low to 5 - very high)\n",
    "27. Dalc - workday alcohol consumption (numeric: from 1 - very low to 5 - very high)\n",
    "28. Walc - weekend alcohol consumption (numeric: from 1 - very low to 5 - very high)\n",
    "29. health - current health status (numeric: from 1 - very bad to 5 - very good)\n",
    "30. absences - number of school absences (numeric: from 0 to 93)\n",
    "\n",
    "These grades are related with the course subject, Math or Portuguese:\n",
    "\n",
    "31. G1 - first period grade (numeric: from 0 to 20)\n",
    "32. G2 - second period grade (numeric: from 0 to 20)\n",
    "33. G3 - final grade (numeric: from 0 to 20, output target)\n",
    "\n",
    "Additional note: there are several (382) students that belong to both datasets.\n",
    "These students can be identified by searching for identical attributes that characterize each student"
   ]
  },
  {
   "cell_type": "markdown",
   "id": "c09a187d",
   "metadata": {},
   "source": [
    "#### Load input data and merge to unified dataset\n",
    "##### If your dataset had only one file, you wouldn't have second file to load"
   ]
  },
  {
   "cell_type": "markdown",
   "id": "08bff7ae",
   "metadata": {},
   "source": [
    "Loading input file 1 into dataframe"
   ]
  },
  {
   "cell_type": "code",
   "execution_count": 8,
   "id": "84148f74",
   "metadata": {},
   "outputs": [],
   "source": [
    "df = pd.read_csv(INPUT_FILE)"
   ]
  },
  {
   "cell_type": "markdown",
   "id": "b8d333a6",
   "metadata": {},
   "source": [
    "Loading input file 2 into dataframe"
   ]
  },
  {
   "cell_type": "code",
   "execution_count": 9,
   "id": "800a4b37",
   "metadata": {},
   "outputs": [],
   "source": [
    "df_por = pd.read_csv(INPUT_FILE2)"
   ]
  },
  {
   "cell_type": "markdown",
   "id": "0a519974",
   "metadata": {},
   "source": [
    "Merging input file 1 and input file 2 into a single dataframe; this step could be ignored if there's only one file"
   ]
  },
  {
   "cell_type": "code",
   "execution_count": 10,
   "id": "e18c5611",
   "metadata": {},
   "outputs": [],
   "source": [
    "df = pd.merge(df, df_por, how='left', suffixes=(None, \"_y\"), left_on=[\"school\",\"sex\",\"age\",\"address\",\"famsize\",\"Pstatus\",\"Medu\",\"Fedu\",\"Mjob\",\"Fjob\",\"reason\",\"nursery\",\"internet\"], \\\n",
    "                          right_on=[\"school\",\"sex\",\"age\",\"address\",\"famsize\",\"Pstatus\",\"Medu\",\"Fedu\",\"Mjob\",\"Fjob\",\"reason\",\"nursery\",\"internet\"])"
   ]
  },
  {
   "cell_type": "code",
   "execution_count": 11,
   "id": "c87e1a5a",
   "metadata": {},
   "outputs": [
    {
     "data": {
      "text/plain": [
       "Index(['school', 'sex', 'age', 'address', 'famsize', 'Pstatus', 'Medu', 'Fedu',\n",
       "       'Mjob', 'Fjob', 'reason', 'guardian', 'traveltime', 'studytime',\n",
       "       'failures', 'schoolsup', 'famsup', 'paid', 'activities', 'nursery',\n",
       "       'higher', 'internet', 'romantic', 'famrel', 'freetime', 'goout', 'Dalc',\n",
       "       'Walc', 'health', 'absences', 'G1', 'G2', 'G3', 'guardian_y',\n",
       "       'traveltime_y', 'studytime_y', 'failures_y', 'schoolsup_y', 'famsup_y',\n",
       "       'paid_y', 'activities_y', 'higher_y', 'romantic_y', 'famrel_y',\n",
       "       'freetime_y', 'goout_y', 'Dalc_y', 'Walc_y', 'health_y', 'absences_y',\n",
       "       'G1_y', 'G2_y', 'G3_y'],\n",
       "      dtype='object')"
      ]
     },
     "execution_count": 11,
     "metadata": {},
     "output_type": "execute_result"
    }
   ],
   "source": [
    "df.columns"
   ]
  },
  {
   "cell_type": "markdown",
   "id": "5b52d346",
   "metadata": {},
   "source": [
    "Selecting features from the dataframe"
   ]
  },
  {
   "cell_type": "code",
   "execution_count": 12,
   "id": "51a9e30b",
   "metadata": {},
   "outputs": [],
   "source": [
    "df_examples = df[['school', 'sex', 'age', 'address', 'famsize', 'Pstatus', 'Medu', 'Fedu',\n",
    "       'Mjob', 'Fjob', 'reason', 'guardian', 'traveltime', 'studytime',\n",
    "       'failures', 'schoolsup', 'famsup', 'paid', 'activities', 'nursery',\n",
    "       'higher', 'internet', 'romantic', 'famrel', 'freetime', 'goout', 'Dalc',\n",
    "       'Walc', 'health', 'absences', 'G1', 'G2', 'G3']]"
   ]
  },
  {
   "cell_type": "code",
   "execution_count": 13,
   "id": "426e6765",
   "metadata": {},
   "outputs": [
    {
     "data": {
      "text/html": [
       "<div>\n",
       "<style scoped>\n",
       "    .dataframe tbody tr th:only-of-type {\n",
       "        vertical-align: middle;\n",
       "    }\n",
       "\n",
       "    .dataframe tbody tr th {\n",
       "        vertical-align: top;\n",
       "    }\n",
       "\n",
       "    .dataframe thead th {\n",
       "        text-align: right;\n",
       "    }\n",
       "</style>\n",
       "<table border=\"1\" class=\"dataframe\">\n",
       "  <thead>\n",
       "    <tr style=\"text-align: right;\">\n",
       "      <th></th>\n",
       "      <th>school</th>\n",
       "      <th>sex</th>\n",
       "      <th>age</th>\n",
       "      <th>address</th>\n",
       "      <th>famsize</th>\n",
       "      <th>Pstatus</th>\n",
       "      <th>Medu</th>\n",
       "      <th>Fedu</th>\n",
       "      <th>Mjob</th>\n",
       "      <th>Fjob</th>\n",
       "      <th>...</th>\n",
       "      <th>famrel</th>\n",
       "      <th>freetime</th>\n",
       "      <th>goout</th>\n",
       "      <th>Dalc</th>\n",
       "      <th>Walc</th>\n",
       "      <th>health</th>\n",
       "      <th>absences</th>\n",
       "      <th>G1</th>\n",
       "      <th>G2</th>\n",
       "      <th>G3</th>\n",
       "    </tr>\n",
       "  </thead>\n",
       "  <tbody>\n",
       "    <tr>\n",
       "      <th>0</th>\n",
       "      <td>GP</td>\n",
       "      <td>F</td>\n",
       "      <td>18</td>\n",
       "      <td>U</td>\n",
       "      <td>GT3</td>\n",
       "      <td>A</td>\n",
       "      <td>4</td>\n",
       "      <td>4</td>\n",
       "      <td>at_home</td>\n",
       "      <td>teacher</td>\n",
       "      <td>...</td>\n",
       "      <td>4</td>\n",
       "      <td>3</td>\n",
       "      <td>4</td>\n",
       "      <td>1</td>\n",
       "      <td>1</td>\n",
       "      <td>3</td>\n",
       "      <td>6</td>\n",
       "      <td>5</td>\n",
       "      <td>6</td>\n",
       "      <td>6</td>\n",
       "    </tr>\n",
       "    <tr>\n",
       "      <th>1</th>\n",
       "      <td>GP</td>\n",
       "      <td>F</td>\n",
       "      <td>17</td>\n",
       "      <td>U</td>\n",
       "      <td>GT3</td>\n",
       "      <td>T</td>\n",
       "      <td>1</td>\n",
       "      <td>1</td>\n",
       "      <td>at_home</td>\n",
       "      <td>other</td>\n",
       "      <td>...</td>\n",
       "      <td>5</td>\n",
       "      <td>3</td>\n",
       "      <td>3</td>\n",
       "      <td>1</td>\n",
       "      <td>1</td>\n",
       "      <td>3</td>\n",
       "      <td>4</td>\n",
       "      <td>5</td>\n",
       "      <td>5</td>\n",
       "      <td>6</td>\n",
       "    </tr>\n",
       "    <tr>\n",
       "      <th>2</th>\n",
       "      <td>GP</td>\n",
       "      <td>F</td>\n",
       "      <td>15</td>\n",
       "      <td>U</td>\n",
       "      <td>LE3</td>\n",
       "      <td>T</td>\n",
       "      <td>1</td>\n",
       "      <td>1</td>\n",
       "      <td>at_home</td>\n",
       "      <td>other</td>\n",
       "      <td>...</td>\n",
       "      <td>4</td>\n",
       "      <td>3</td>\n",
       "      <td>2</td>\n",
       "      <td>2</td>\n",
       "      <td>3</td>\n",
       "      <td>3</td>\n",
       "      <td>10</td>\n",
       "      <td>7</td>\n",
       "      <td>8</td>\n",
       "      <td>10</td>\n",
       "    </tr>\n",
       "    <tr>\n",
       "      <th>3</th>\n",
       "      <td>GP</td>\n",
       "      <td>F</td>\n",
       "      <td>15</td>\n",
       "      <td>U</td>\n",
       "      <td>GT3</td>\n",
       "      <td>T</td>\n",
       "      <td>4</td>\n",
       "      <td>2</td>\n",
       "      <td>health</td>\n",
       "      <td>services</td>\n",
       "      <td>...</td>\n",
       "      <td>3</td>\n",
       "      <td>2</td>\n",
       "      <td>2</td>\n",
       "      <td>1</td>\n",
       "      <td>1</td>\n",
       "      <td>5</td>\n",
       "      <td>2</td>\n",
       "      <td>15</td>\n",
       "      <td>14</td>\n",
       "      <td>15</td>\n",
       "    </tr>\n",
       "    <tr>\n",
       "      <th>4</th>\n",
       "      <td>GP</td>\n",
       "      <td>F</td>\n",
       "      <td>16</td>\n",
       "      <td>U</td>\n",
       "      <td>GT3</td>\n",
       "      <td>T</td>\n",
       "      <td>3</td>\n",
       "      <td>3</td>\n",
       "      <td>other</td>\n",
       "      <td>other</td>\n",
       "      <td>...</td>\n",
       "      <td>4</td>\n",
       "      <td>3</td>\n",
       "      <td>2</td>\n",
       "      <td>1</td>\n",
       "      <td>2</td>\n",
       "      <td>5</td>\n",
       "      <td>4</td>\n",
       "      <td>6</td>\n",
       "      <td>10</td>\n",
       "      <td>10</td>\n",
       "    </tr>\n",
       "  </tbody>\n",
       "</table>\n",
       "<p>5 rows × 33 columns</p>\n",
       "</div>"
      ],
      "text/plain": [
       "  school sex  age address famsize Pstatus  Medu  Fedu     Mjob      Fjob  ...  \\\n",
       "0     GP   F   18       U     GT3       A     4     4  at_home   teacher  ...   \n",
       "1     GP   F   17       U     GT3       T     1     1  at_home     other  ...   \n",
       "2     GP   F   15       U     LE3       T     1     1  at_home     other  ...   \n",
       "3     GP   F   15       U     GT3       T     4     2   health  services  ...   \n",
       "4     GP   F   16       U     GT3       T     3     3    other     other  ...   \n",
       "\n",
       "  famrel freetime  goout  Dalc  Walc health absences  G1  G2  G3  \n",
       "0      4        3      4     1     1      3        6   5   6   6  \n",
       "1      5        3      3     1     1      3        4   5   5   6  \n",
       "2      4        3      2     2     3      3       10   7   8  10  \n",
       "3      3        2      2     1     1      5        2  15  14  15  \n",
       "4      4        3      2     1     2      5        4   6  10  10  \n",
       "\n",
       "[5 rows x 33 columns]"
      ]
     },
     "execution_count": 13,
     "metadata": {},
     "output_type": "execute_result"
    }
   ],
   "source": [
    "df_examples.head()"
   ]
  },
  {
   "cell_type": "markdown",
   "id": "f244a04d",
   "metadata": {},
   "source": [
    "### Preprocessing and Visualisation"
   ]
  },
  {
   "cell_type": "markdown",
   "id": "523e001e",
   "metadata": {},
   "source": [
    "#### Convert non-numerical data to numerical data"
   ]
  },
  {
   "cell_type": "code",
   "execution_count": 14,
   "id": "6887e02b",
   "metadata": {},
   "outputs": [
    {
     "name": "stderr",
     "output_type": "stream",
     "text": [
      "C:\\Users\\BALAJI~1\\AppData\\Local\\Temp/ipykernel_32740/224265584.py:1: SettingWithCopyWarning: \n",
      "A value is trying to be set on a copy of a slice from a DataFrame.\n",
      "Try using .loc[row_indexer,col_indexer] = value instead\n",
      "\n",
      "See the caveats in the documentation: https://pandas.pydata.org/pandas-docs/stable/user_guide/indexing.html#returning-a-view-versus-a-copy\n",
      "  df_examples['school'] = df_examples['school'].map({'GP': 0, 'MS': 1}).astype(int)\n",
      "C:\\Users\\BALAJI~1\\AppData\\Local\\Temp/ipykernel_32740/224265584.py:2: SettingWithCopyWarning: \n",
      "A value is trying to be set on a copy of a slice from a DataFrame.\n",
      "Try using .loc[row_indexer,col_indexer] = value instead\n",
      "\n",
      "See the caveats in the documentation: https://pandas.pydata.org/pandas-docs/stable/user_guide/indexing.html#returning-a-view-versus-a-copy\n",
      "  df_examples['sex'] = df_examples['sex'].map({'F': 0, 'M': 1}).astype(int)\n",
      "C:\\Users\\BALAJI~1\\AppData\\Local\\Temp/ipykernel_32740/224265584.py:3: SettingWithCopyWarning: \n",
      "A value is trying to be set on a copy of a slice from a DataFrame.\n",
      "Try using .loc[row_indexer,col_indexer] = value instead\n",
      "\n",
      "See the caveats in the documentation: https://pandas.pydata.org/pandas-docs/stable/user_guide/indexing.html#returning-a-view-versus-a-copy\n",
      "  df_examples['address'] = df_examples['address'].map({'R': 0, 'U': 1}).astype(int)\n",
      "C:\\Users\\BALAJI~1\\AppData\\Local\\Temp/ipykernel_32740/224265584.py:4: SettingWithCopyWarning: \n",
      "A value is trying to be set on a copy of a slice from a DataFrame.\n",
      "Try using .loc[row_indexer,col_indexer] = value instead\n",
      "\n",
      "See the caveats in the documentation: https://pandas.pydata.org/pandas-docs/stable/user_guide/indexing.html#returning-a-view-versus-a-copy\n",
      "  df_examples['famsize'] = df_examples['famsize'].map({'LE3': 0, 'GT3': 1}).astype(int)\n",
      "C:\\Users\\BALAJI~1\\AppData\\Local\\Temp/ipykernel_32740/224265584.py:5: SettingWithCopyWarning: \n",
      "A value is trying to be set on a copy of a slice from a DataFrame.\n",
      "Try using .loc[row_indexer,col_indexer] = value instead\n",
      "\n",
      "See the caveats in the documentation: https://pandas.pydata.org/pandas-docs/stable/user_guide/indexing.html#returning-a-view-versus-a-copy\n",
      "  df_examples['Pstatus'] = df_examples['Pstatus'].map({'A': 0, 'T': 1}).astype(int)\n",
      "C:\\Users\\BALAJI~1\\AppData\\Local\\Temp/ipykernel_32740/224265584.py:6: SettingWithCopyWarning: \n",
      "A value is trying to be set on a copy of a slice from a DataFrame.\n",
      "Try using .loc[row_indexer,col_indexer] = value instead\n",
      "\n",
      "See the caveats in the documentation: https://pandas.pydata.org/pandas-docs/stable/user_guide/indexing.html#returning-a-view-versus-a-copy\n",
      "  df_examples['Mjob'] = df_examples['Mjob'].map({'at_home': 0, 'health': 1, 'other': 2, 'services': 3, 'teacher': 4}).astype(int)\n",
      "C:\\Users\\BALAJI~1\\AppData\\Local\\Temp/ipykernel_32740/224265584.py:7: SettingWithCopyWarning: \n",
      "A value is trying to be set on a copy of a slice from a DataFrame.\n",
      "Try using .loc[row_indexer,col_indexer] = value instead\n",
      "\n",
      "See the caveats in the documentation: https://pandas.pydata.org/pandas-docs/stable/user_guide/indexing.html#returning-a-view-versus-a-copy\n",
      "  df_examples['Fjob'] = df_examples['Fjob'].map({'at_home': 0, 'health': 1, 'other': 2, 'services': 3, 'teacher': 4}).astype(int)\n",
      "C:\\Users\\BALAJI~1\\AppData\\Local\\Temp/ipykernel_32740/224265584.py:8: SettingWithCopyWarning: \n",
      "A value is trying to be set on a copy of a slice from a DataFrame.\n",
      "Try using .loc[row_indexer,col_indexer] = value instead\n",
      "\n",
      "See the caveats in the documentation: https://pandas.pydata.org/pandas-docs/stable/user_guide/indexing.html#returning-a-view-versus-a-copy\n",
      "  df_examples['reason'] = df_examples['reason'].map({'course': 0, 'other': 1, 'home': 2, 'reputation': 3}).astype(int)\n",
      "C:\\Users\\BALAJI~1\\AppData\\Local\\Temp/ipykernel_32740/224265584.py:9: SettingWithCopyWarning: \n",
      "A value is trying to be set on a copy of a slice from a DataFrame.\n",
      "Try using .loc[row_indexer,col_indexer] = value instead\n",
      "\n",
      "See the caveats in the documentation: https://pandas.pydata.org/pandas-docs/stable/user_guide/indexing.html#returning-a-view-versus-a-copy\n",
      "  df_examples['guardian'] = df_examples['guardian'].map({'mother': 0, 'father': 1, 'other': 2}).astype(int)\n",
      "C:\\Users\\BALAJI~1\\AppData\\Local\\Temp/ipykernel_32740/224265584.py:10: SettingWithCopyWarning: \n",
      "A value is trying to be set on a copy of a slice from a DataFrame.\n",
      "Try using .loc[row_indexer,col_indexer] = value instead\n",
      "\n",
      "See the caveats in the documentation: https://pandas.pydata.org/pandas-docs/stable/user_guide/indexing.html#returning-a-view-versus-a-copy\n",
      "  df_examples['schoolsup'] = df_examples['schoolsup'].map({'no': 0, 'yes': 1}).astype(int)\n",
      "C:\\Users\\BALAJI~1\\AppData\\Local\\Temp/ipykernel_32740/224265584.py:11: SettingWithCopyWarning: \n",
      "A value is trying to be set on a copy of a slice from a DataFrame.\n",
      "Try using .loc[row_indexer,col_indexer] = value instead\n",
      "\n",
      "See the caveats in the documentation: https://pandas.pydata.org/pandas-docs/stable/user_guide/indexing.html#returning-a-view-versus-a-copy\n",
      "  df_examples['famsup'] = df_examples['famsup'].map({'no': 0, 'yes': 1}).astype(int)\n",
      "C:\\Users\\BALAJI~1\\AppData\\Local\\Temp/ipykernel_32740/224265584.py:12: SettingWithCopyWarning: \n",
      "A value is trying to be set on a copy of a slice from a DataFrame.\n",
      "Try using .loc[row_indexer,col_indexer] = value instead\n",
      "\n",
      "See the caveats in the documentation: https://pandas.pydata.org/pandas-docs/stable/user_guide/indexing.html#returning-a-view-versus-a-copy\n",
      "  df_examples['paid'] = df_examples['paid'].map({'no': 0, 'yes': 1}).astype(int)\n",
      "C:\\Users\\BALAJI~1\\AppData\\Local\\Temp/ipykernel_32740/224265584.py:13: SettingWithCopyWarning: \n",
      "A value is trying to be set on a copy of a slice from a DataFrame.\n",
      "Try using .loc[row_indexer,col_indexer] = value instead\n",
      "\n",
      "See the caveats in the documentation: https://pandas.pydata.org/pandas-docs/stable/user_guide/indexing.html#returning-a-view-versus-a-copy\n",
      "  df_examples['activities'] = df_examples['activities'].map({'no': 0, 'yes': 1}).astype(int)\n",
      "C:\\Users\\BALAJI~1\\AppData\\Local\\Temp/ipykernel_32740/224265584.py:14: SettingWithCopyWarning: \n",
      "A value is trying to be set on a copy of a slice from a DataFrame.\n",
      "Try using .loc[row_indexer,col_indexer] = value instead\n",
      "\n",
      "See the caveats in the documentation: https://pandas.pydata.org/pandas-docs/stable/user_guide/indexing.html#returning-a-view-versus-a-copy\n",
      "  df_examples['nursery'] = df_examples['nursery'].map({'no': 0, 'yes': 1}).astype(int)\n",
      "C:\\Users\\BALAJI~1\\AppData\\Local\\Temp/ipykernel_32740/224265584.py:15: SettingWithCopyWarning: \n",
      "A value is trying to be set on a copy of a slice from a DataFrame.\n",
      "Try using .loc[row_indexer,col_indexer] = value instead\n",
      "\n",
      "See the caveats in the documentation: https://pandas.pydata.org/pandas-docs/stable/user_guide/indexing.html#returning-a-view-versus-a-copy\n",
      "  df_examples['higher'] = df_examples['higher'].map({'no': 0, 'yes': 1}).astype(int)\n",
      "C:\\Users\\BALAJI~1\\AppData\\Local\\Temp/ipykernel_32740/224265584.py:16: SettingWithCopyWarning: \n",
      "A value is trying to be set on a copy of a slice from a DataFrame.\n",
      "Try using .loc[row_indexer,col_indexer] = value instead\n",
      "\n",
      "See the caveats in the documentation: https://pandas.pydata.org/pandas-docs/stable/user_guide/indexing.html#returning-a-view-versus-a-copy\n",
      "  df_examples['internet'] = df_examples['internet'].map({'no': 0, 'yes': 1}).astype(int)\n",
      "C:\\Users\\BALAJI~1\\AppData\\Local\\Temp/ipykernel_32740/224265584.py:17: SettingWithCopyWarning: \n",
      "A value is trying to be set on a copy of a slice from a DataFrame.\n",
      "Try using .loc[row_indexer,col_indexer] = value instead\n",
      "\n",
      "See the caveats in the documentation: https://pandas.pydata.org/pandas-docs/stable/user_guide/indexing.html#returning-a-view-versus-a-copy\n",
      "  df_examples['romantic'] = df_examples['romantic'].map({'no': 0, 'yes': 1}).astype(int)\n"
     ]
    }
   ],
   "source": [
    "df_examples['school'] = df_examples['school'].map({'GP': 0, 'MS': 1}).astype(int)\n",
    "df_examples['sex'] = df_examples['sex'].map({'F': 0, 'M': 1}).astype(int)\n",
    "df_examples['address'] = df_examples['address'].map({'R': 0, 'U': 1}).astype(int)\n",
    "df_examples['famsize'] = df_examples['famsize'].map({'LE3': 0, 'GT3': 1}).astype(int)\n",
    "df_examples['Pstatus'] = df_examples['Pstatus'].map({'A': 0, 'T': 1}).astype(int)\n",
    "df_examples['Mjob'] = df_examples['Mjob'].map({'at_home': 0, 'health': 1, 'other': 2, 'services': 3, 'teacher': 4}).astype(int)\n",
    "df_examples['Fjob'] = df_examples['Fjob'].map({'at_home': 0, 'health': 1, 'other': 2, 'services': 3, 'teacher': 4}).astype(int)\n",
    "df_examples['reason'] = df_examples['reason'].map({'course': 0, 'other': 1, 'home': 2, 'reputation': 3}).astype(int)\n",
    "df_examples['guardian'] = df_examples['guardian'].map({'mother': 0, 'father': 1, 'other': 2}).astype(int)\n",
    "df_examples['schoolsup'] = df_examples['schoolsup'].map({'no': 0, 'yes': 1}).astype(int)\n",
    "df_examples['famsup'] = df_examples['famsup'].map({'no': 0, 'yes': 1}).astype(int)\n",
    "df_examples['paid'] = df_examples['paid'].map({'no': 0, 'yes': 1}).astype(int)\n",
    "df_examples['activities'] = df_examples['activities'].map({'no': 0, 'yes': 1}).astype(int)\n",
    "df_examples['nursery'] = df_examples['nursery'].map({'no': 0, 'yes': 1}).astype(int)\n",
    "df_examples['higher'] = df_examples['higher'].map({'no': 0, 'yes': 1}).astype(int)\n",
    "df_examples['internet'] = df_examples['internet'].map({'no': 0, 'yes': 1}).astype(int)\n",
    "df_examples['romantic'] = df_examples['romantic'].map({'no': 0, 'yes': 1}).astype(int)"
   ]
  },
  {
   "cell_type": "markdown",
   "id": "80e49222",
   "metadata": {},
   "source": [
    "#### Correlation of features"
   ]
  },
  {
   "cell_type": "code",
   "execution_count": 15,
   "id": "3d1c9658",
   "metadata": {
    "scrolled": true
   },
   "outputs": [
    {
     "data": {
      "text/html": [
       "<div>\n",
       "<style scoped>\n",
       "    .dataframe tbody tr th:only-of-type {\n",
       "        vertical-align: middle;\n",
       "    }\n",
       "\n",
       "    .dataframe tbody tr th {\n",
       "        vertical-align: top;\n",
       "    }\n",
       "\n",
       "    .dataframe thead th {\n",
       "        text-align: right;\n",
       "    }\n",
       "</style>\n",
       "<table border=\"1\" class=\"dataframe\">\n",
       "  <thead>\n",
       "    <tr style=\"text-align: right;\">\n",
       "      <th></th>\n",
       "      <th>school</th>\n",
       "      <th>sex</th>\n",
       "      <th>age</th>\n",
       "      <th>address</th>\n",
       "      <th>famsize</th>\n",
       "      <th>Pstatus</th>\n",
       "      <th>Medu</th>\n",
       "      <th>Fedu</th>\n",
       "      <th>Mjob</th>\n",
       "      <th>Fjob</th>\n",
       "      <th>...</th>\n",
       "      <th>famrel</th>\n",
       "      <th>freetime</th>\n",
       "      <th>goout</th>\n",
       "      <th>Dalc</th>\n",
       "      <th>Walc</th>\n",
       "      <th>health</th>\n",
       "      <th>absences</th>\n",
       "      <th>G1</th>\n",
       "      <th>G2</th>\n",
       "      <th>G3</th>\n",
       "    </tr>\n",
       "  </thead>\n",
       "  <tbody>\n",
       "    <tr>\n",
       "      <th>school</th>\n",
       "      <td>1.000000</td>\n",
       "      <td>-0.025139</td>\n",
       "      <td>0.376704</td>\n",
       "      <td>-0.277095</td>\n",
       "      <td>-0.065662</td>\n",
       "      <td>0.044307</td>\n",
       "      <td>-0.144265</td>\n",
       "      <td>-0.090747</td>\n",
       "      <td>-0.064173</td>\n",
       "      <td>0.011223</td>\n",
       "      <td>...</td>\n",
       "      <td>-0.072780</td>\n",
       "      <td>0.015606</td>\n",
       "      <td>-0.020438</td>\n",
       "      <td>0.112023</td>\n",
       "      <td>0.059819</td>\n",
       "      <td>-0.037768</td>\n",
       "      <td>-0.089104</td>\n",
       "      <td>-0.033213</td>\n",
       "      <td>-0.056573</td>\n",
       "      <td>-0.054836</td>\n",
       "    </tr>\n",
       "    <tr>\n",
       "      <th>sex</th>\n",
       "      <td>-0.025139</td>\n",
       "      <td>1.000000</td>\n",
       "      <td>-0.033941</td>\n",
       "      <td>-0.019370</td>\n",
       "      <td>-0.077758</td>\n",
       "      <td>0.028501</td>\n",
       "      <td>0.092762</td>\n",
       "      <td>0.049241</td>\n",
       "      <td>0.202360</td>\n",
       "      <td>0.095259</td>\n",
       "      <td>...</td>\n",
       "      <td>0.065760</td>\n",
       "      <td>0.232397</td>\n",
       "      <td>0.071819</td>\n",
       "      <td>0.259949</td>\n",
       "      <td>0.263709</td>\n",
       "      <td>0.143266</td>\n",
       "      <td>-0.070324</td>\n",
       "      <td>0.092725</td>\n",
       "      <td>0.089692</td>\n",
       "      <td>0.095790</td>\n",
       "    </tr>\n",
       "    <tr>\n",
       "      <th>age</th>\n",
       "      <td>0.376704</td>\n",
       "      <td>-0.033941</td>\n",
       "      <td>1.000000</td>\n",
       "      <td>-0.142339</td>\n",
       "      <td>-0.034142</td>\n",
       "      <td>0.031052</td>\n",
       "      <td>-0.167380</td>\n",
       "      <td>-0.166154</td>\n",
       "      <td>-0.066866</td>\n",
       "      <td>-0.037473</td>\n",
       "      <td>...</td>\n",
       "      <td>0.042374</td>\n",
       "      <td>0.012131</td>\n",
       "      <td>0.125013</td>\n",
       "      <td>0.128170</td>\n",
       "      <td>0.116355</td>\n",
       "      <td>-0.066089</td>\n",
       "      <td>0.176582</td>\n",
       "      <td>-0.075825</td>\n",
       "      <td>-0.151792</td>\n",
       "      <td>-0.171036</td>\n",
       "    </tr>\n",
       "    <tr>\n",
       "      <th>address</th>\n",
       "      <td>-0.277095</td>\n",
       "      <td>-0.019370</td>\n",
       "      <td>-0.142339</td>\n",
       "      <td>1.000000</td>\n",
       "      <td>-0.061787</td>\n",
       "      <td>-0.036980</td>\n",
       "      <td>0.139377</td>\n",
       "      <td>0.074585</td>\n",
       "      <td>0.118235</td>\n",
       "      <td>0.005054</td>\n",
       "      <td>...</td>\n",
       "      <td>0.016206</td>\n",
       "      <td>0.033076</td>\n",
       "      <td>0.065796</td>\n",
       "      <td>-0.098214</td>\n",
       "      <td>-0.105325</td>\n",
       "      <td>-0.033840</td>\n",
       "      <td>-0.031959</td>\n",
       "      <td>0.063657</td>\n",
       "      <td>0.117673</td>\n",
       "      <td>0.094048</td>\n",
       "    </tr>\n",
       "    <tr>\n",
       "      <th>famsize</th>\n",
       "      <td>-0.065662</td>\n",
       "      <td>-0.077758</td>\n",
       "      <td>-0.034142</td>\n",
       "      <td>-0.061787</td>\n",
       "      <td>1.000000</td>\n",
       "      <td>0.154814</td>\n",
       "      <td>0.046279</td>\n",
       "      <td>0.062380</td>\n",
       "      <td>-0.056174</td>\n",
       "      <td>0.091003</td>\n",
       "      <td>...</td>\n",
       "      <td>0.024875</td>\n",
       "      <td>-0.018556</td>\n",
       "      <td>-0.024308</td>\n",
       "      <td>-0.107035</td>\n",
       "      <td>-0.108456</td>\n",
       "      <td>0.035555</td>\n",
       "      <td>-0.040535</td>\n",
       "      <td>-0.075366</td>\n",
       "      <td>-0.084788</td>\n",
       "      <td>-0.088003</td>\n",
       "    </tr>\n",
       "  </tbody>\n",
       "</table>\n",
       "<p>5 rows × 33 columns</p>\n",
       "</div>"
      ],
      "text/plain": [
       "           school       sex       age   address   famsize   Pstatus      Medu  \\\n",
       "school   1.000000 -0.025139  0.376704 -0.277095 -0.065662  0.044307 -0.144265   \n",
       "sex     -0.025139  1.000000 -0.033941 -0.019370 -0.077758  0.028501  0.092762   \n",
       "age      0.376704 -0.033941  1.000000 -0.142339 -0.034142  0.031052 -0.167380   \n",
       "address -0.277095 -0.019370 -0.142339  1.000000 -0.061787 -0.036980  0.139377   \n",
       "famsize -0.065662 -0.077758 -0.034142 -0.061787  1.000000  0.154814  0.046279   \n",
       "\n",
       "             Fedu      Mjob      Fjob  ...    famrel  freetime     goout  \\\n",
       "school  -0.090747 -0.064173  0.011223  ... -0.072780  0.015606 -0.020438   \n",
       "sex      0.049241  0.202360  0.095259  ...  0.065760  0.232397  0.071819   \n",
       "age     -0.166154 -0.066866 -0.037473  ...  0.042374  0.012131  0.125013   \n",
       "address  0.074585  0.118235  0.005054  ...  0.016206  0.033076  0.065796   \n",
       "famsize  0.062380 -0.056174  0.091003  ...  0.024875 -0.018556 -0.024308   \n",
       "\n",
       "             Dalc      Walc    health  absences        G1        G2        G3  \n",
       "school   0.112023  0.059819 -0.037768 -0.089104 -0.033213 -0.056573 -0.054836  \n",
       "sex      0.259949  0.263709  0.143266 -0.070324  0.092725  0.089692  0.095790  \n",
       "age      0.128170  0.116355 -0.066089  0.176582 -0.075825 -0.151792 -0.171036  \n",
       "address -0.098214 -0.105325 -0.033840 -0.031959  0.063657  0.117673  0.094048  \n",
       "famsize -0.107035 -0.108456  0.035555 -0.040535 -0.075366 -0.084788 -0.088003  \n",
       "\n",
       "[5 rows x 33 columns]"
      ]
     },
     "execution_count": 15,
     "metadata": {},
     "output_type": "execute_result"
    }
   ],
   "source": [
    "corr = df_examples.corr()\n",
    "corr.head()"
   ]
  },
  {
   "cell_type": "markdown",
   "id": "ab9b7019",
   "metadata": {},
   "source": [
    "Check if there're any null values in the dataset"
   ]
  },
  {
   "cell_type": "code",
   "execution_count": 16,
   "id": "65868d85",
   "metadata": {},
   "outputs": [
    {
     "data": {
      "text/plain": [
       "<AxesSubplot:>"
      ]
     },
     "execution_count": 16,
     "metadata": {},
     "output_type": "execute_result"
    },
    {
     "data": {
      "image/png": "[encoded data removed]",
      "text/plain": [
       "<Figure size 432x288 with 2 Axes>"
      ]
     },
     "metadata": {
      "needs_background": "light"
     },
     "output_type": "display_data"
    }
   ],
   "source": [
    "sns.heatmap(df_examples.isnull(),cmap='Reds')"
   ]
  },
  {
   "cell_type": "markdown",
   "id": "03fd2ae0",
   "metadata": {},
   "source": [
    "Draw heatmap with computed correlation scores"
   ]
  },
  {
   "cell_type": "code",
   "execution_count": 17,
   "id": "341463e8",
   "metadata": {},
   "outputs": [
    {
     "data": {
      "text/plain": [
       "<AxesSubplot:>"
      ]
     },
     "execution_count": 17,
     "metadata": {},
     "output_type": "execute_result"
    },
    {
     "data": {
      "image/png": "[encoded data removed]",
      "text/plain": [
       "<Figure size 2160x1440 with 2 Axes>"
      ]
     },
     "metadata": {
      "needs_background": "light"
     },
     "output_type": "display_data"
    }
   ],
   "source": [
    "# Generate a mask for the upper triangle\n",
    "mask = np.triu(np.ones_like(corr, dtype=bool))\n",
    "\n",
    "plt.figure(figsize=(30,20))\n",
    "sns.heatmap(corr, mask=mask, linewidths=.5, cmap='Reds',annot=True)"
   ]
  },
  {
   "cell_type": "markdown",
   "id": "f7f6a8df",
   "metadata": {},
   "source": [
    "#### Role of study time in grades"
   ]
  },
  {
   "cell_type": "markdown",
   "id": "cc265ee8",
   "metadata": {},
   "source": [
    "studytime - weekly study time (numeric: 1 - <2 hours, 2 - 2 to 5 hours, 3 - 5 to 10 hours, or 4 - >10 hours)"
   ]
  },
  {
   "cell_type": "code",
   "execution_count": 18,
   "id": "e648e2ea",
   "metadata": {},
   "outputs": [
    {
     "data": {
      "text/plain": [
       "<AxesSubplot:xlabel='G3', ylabel='studytime'>"
      ]
     },
     "execution_count": 18,
     "metadata": {},
     "output_type": "execute_result"
    },
    {
     "data": {
      "image/png": "[encoded data removed]",
      "text/plain": [
       "<Figure size 1296x504 with 1 Axes>"
      ]
     },
     "metadata": {
      "needs_background": "light"
     },
     "output_type": "display_data"
    }
   ],
   "source": [
    "plt.figure(figsize=(18,7))\n",
    "sns.boxplot(x=\"G3\", y=\"studytime\", data=df_examples, orient='h')"
   ]
  },
  {
   "cell_type": "markdown",
   "id": "2d03de10",
   "metadata": {},
   "source": [
    "#### Analysis of travel time and grades"
   ]
  },
  {
   "cell_type": "markdown",
   "id": "99a720db",
   "metadata": {},
   "source": [
    "traveltime - home to school travel time (numeric: 1 - <15 min., 2 - 15 to 30 min., 3 - 30 min. to 1 hour, or 4 - >1 hour)"
   ]
  },
  {
   "cell_type": "code",
   "execution_count": 19,
   "id": "73b247d7",
   "metadata": {},
   "outputs": [
    {
     "data": {
      "text/plain": [
       "<AxesSubplot:xlabel='G3', ylabel='traveltime'>"
      ]
     },
     "execution_count": 19,
     "metadata": {},
     "output_type": "execute_result"
    },
    {
     "data": {
      "image/png": "[encoded data removed]",
      "text/plain": [
       "<Figure size 1296x504 with 1 Axes>"
      ]
     },
     "metadata": {
      "needs_background": "light"
     },
     "output_type": "display_data"
    }
   ],
   "source": [
    "plt.figure(figsize=(18,7))\n",
    "sns.boxplot(x=\"G3\", y=\"traveltime\", data=df_examples, orient='h')"
   ]
  },
  {
   "cell_type": "markdown",
   "id": "c96431b9",
   "metadata": {},
   "source": [
    "#### Internet connectivity influence with grades"
   ]
  },
  {
   "cell_type": "markdown",
   "id": "aac29f94",
   "metadata": {},
   "source": [
    "internet - Internet access at home (binary: yes(1) or no(0))"
   ]
  },
  {
   "cell_type": "code",
   "execution_count": 20,
   "id": "aa526096",
   "metadata": {},
   "outputs": [
    {
     "data": {
      "text/plain": [
       "<AxesSubplot:xlabel='G3', ylabel='internet'>"
      ]
     },
     "execution_count": 20,
     "metadata": {},
     "output_type": "execute_result"
    },
    {
     "data": {
      "image/png": "[encoded data removed]",
      "text/plain": [
       "<Figure size 1296x504 with 1 Axes>"
      ]
     },
     "metadata": {
      "needs_background": "light"
     },
     "output_type": "display_data"
    }
   ],
   "source": [
    "plt.figure(figsize=(18,7))\n",
    "sns.boxplot(x=\"G3\", y=\"internet\", data=df_examples, orient='h')"
   ]
  },
  {
   "cell_type": "markdown",
   "id": "1b08c7c5",
   "metadata": {},
   "source": [
    "#### Students with interest to pursue higher education and their grades"
   ]
  },
  {
   "cell_type": "markdown",
   "id": "01d93999",
   "metadata": {},
   "source": [
    "higher - wants to take higher education (binary: yes(1) or no(0))"
   ]
  },
  {
   "cell_type": "code",
   "execution_count": 21,
   "id": "2e5496a4",
   "metadata": {},
   "outputs": [
    {
     "data": {
      "text/plain": [
       "<AxesSubplot:xlabel='G3', ylabel='higher'>"
      ]
     },
     "execution_count": 21,
     "metadata": {},
     "output_type": "execute_result"
    },
    {
     "data": {
      "image/png": "[encoded data removed]",
      "text/plain": [
       "<Figure size 1296x504 with 1 Axes>"
      ]
     },
     "metadata": {
      "needs_background": "light"
     },
     "output_type": "display_data"
    }
   ],
   "source": [
    "plt.figure(figsize=(18,7))\n",
    "sns.boxplot(x=\"G3\", y=\"higher\", data=df_examples, orient='h')"
   ]
  },
  {
   "cell_type": "markdown",
   "id": "4ee5540b",
   "metadata": {},
   "source": [
    "#### Past class failures effect on current grades"
   ]
  },
  {
   "cell_type": "markdown",
   "id": "3b43f3b7",
   "metadata": {},
   "source": [
    "failures - number of past class failures (numeric: n if 1<=n<3, else 4)"
   ]
  },
  {
   "cell_type": "code",
   "execution_count": 22,
   "id": "2ee3f853",
   "metadata": {},
   "outputs": [
    {
     "data": {
      "text/plain": [
       "<AxesSubplot:xlabel='failures', ylabel='G3'>"
      ]
     },
     "execution_count": 22,
     "metadata": {},
     "output_type": "execute_result"
    },
    {
     "data": {
      "image/png": "[encoded data removed]",
      "text/plain": [
       "<Figure size 1296x504 with 1 Axes>"
      ]
     },
     "metadata": {
      "needs_background": "light"
     },
     "output_type": "display_data"
    }
   ],
   "source": [
    "plt.figure(figsize=(18,7))\n",
    "# sns.boxplot(x=\"G3\", y=\"failures\", data=df_examples, orient='h')\n",
    "sns.barplot(x=\"failures\", y=\"G3\", data=df_examples)"
   ]
  },
  {
   "cell_type": "markdown",
   "id": "06108e8a",
   "metadata": {},
   "source": [
    "#### Periodical grades distribution"
   ]
  },
  {
   "cell_type": "markdown",
   "id": "c582adac",
   "metadata": {},
   "source": [
    "These grades are related with the course subject, Math:\n",
    "\n",
    "    G1 - first period grade (numeric: from 0 to 20)\n",
    "    G2 - second period grade (numeric: from 0 to 20)\n",
    "    G3 - final grade (numeric: from 0 to 20, output target)"
   ]
  },
  {
   "cell_type": "code",
   "execution_count": 23,
   "id": "26d2970c",
   "metadata": {},
   "outputs": [
    {
     "data": {
      "image/png": "[encoded data removed]",
      "text/plain": [
       "<Figure size 432x288 with 1 Axes>"
      ]
     },
     "metadata": {
      "needs_background": "light"
     },
     "output_type": "display_data"
    }
   ],
   "source": [
    "sns.kdeplot(df_examples['G1'],shade=True,color='red')\n",
    "sns.kdeplot(df_examples['G2'],color='green',shade=True)\n",
    "sns.kdeplot(df_examples['G3'],color='blue',shade=True)\n",
    "plt.xlabel(\"G1, G2, G3\")\n",
    "plt.legend(labels=[\"G1\", \"G2\", \"G3\"])\n",
    "plt.show()"
   ]
  },
  {
   "cell_type": "markdown",
   "id": "840a749a",
   "metadata": {},
   "source": [
    "### Machine Learning - Train and Predict"
   ]
  },
  {
   "cell_type": "markdown",
   "id": "4241b6a9",
   "metadata": {},
   "source": [
    "#### Separation of input and target variables"
   ]
  },
  {
   "cell_type": "markdown",
   "id": "7f285a49",
   "metadata": {},
   "source": [
    "Including all but target variable"
   ]
  },
  {
   "cell_type": "code",
   "execution_count": 24,
   "id": "939a0802",
   "metadata": {},
   "outputs": [
    {
     "data": {
      "text/html": [
       "<div>\n",
       "<style scoped>\n",
       "    .dataframe tbody tr th:only-of-type {\n",
       "        vertical-align: middle;\n",
       "    }\n",
       "\n",
       "    .dataframe tbody tr th {\n",
       "        vertical-align: top;\n",
       "    }\n",
       "\n",
       "    .dataframe thead th {\n",
       "        text-align: right;\n",
       "    }\n",
       "</style>\n",
       "<table border=\"1\" class=\"dataframe\">\n",
       "  <thead>\n",
       "    <tr style=\"text-align: right;\">\n",
       "      <th></th>\n",
       "      <th>school</th>\n",
       "      <th>sex</th>\n",
       "      <th>age</th>\n",
       "      <th>address</th>\n",
       "      <th>famsize</th>\n",
       "      <th>Pstatus</th>\n",
       "      <th>Medu</th>\n",
       "      <th>Fedu</th>\n",
       "      <th>Mjob</th>\n",
       "      <th>Fjob</th>\n",
       "      <th>...</th>\n",
       "      <th>romantic</th>\n",
       "      <th>famrel</th>\n",
       "      <th>freetime</th>\n",
       "      <th>goout</th>\n",
       "      <th>Dalc</th>\n",
       "      <th>Walc</th>\n",
       "      <th>health</th>\n",
       "      <th>absences</th>\n",
       "      <th>G1</th>\n",
       "      <th>G2</th>\n",
       "    </tr>\n",
       "  </thead>\n",
       "  <tbody>\n",
       "    <tr>\n",
       "      <th>0</th>\n",
       "      <td>0</td>\n",
       "      <td>0</td>\n",
       "      <td>18</td>\n",
       "      <td>1</td>\n",
       "      <td>1</td>\n",
       "      <td>0</td>\n",
       "      <td>4</td>\n",
       "      <td>4</td>\n",
       "      <td>0</td>\n",
       "      <td>4</td>\n",
       "      <td>...</td>\n",
       "      <td>0</td>\n",
       "      <td>4</td>\n",
       "      <td>3</td>\n",
       "      <td>4</td>\n",
       "      <td>1</td>\n",
       "      <td>1</td>\n",
       "      <td>3</td>\n",
       "      <td>6</td>\n",
       "      <td>5</td>\n",
       "      <td>6</td>\n",
       "    </tr>\n",
       "    <tr>\n",
       "      <th>1</th>\n",
       "      <td>0</td>\n",
       "      <td>0</td>\n",
       "      <td>17</td>\n",
       "      <td>1</td>\n",
       "      <td>1</td>\n",
       "      <td>1</td>\n",
       "      <td>1</td>\n",
       "      <td>1</td>\n",
       "      <td>0</td>\n",
       "      <td>2</td>\n",
       "      <td>...</td>\n",
       "      <td>0</td>\n",
       "      <td>5</td>\n",
       "      <td>3</td>\n",
       "      <td>3</td>\n",
       "      <td>1</td>\n",
       "      <td>1</td>\n",
       "      <td>3</td>\n",
       "      <td>4</td>\n",
       "      <td>5</td>\n",
       "      <td>5</td>\n",
       "    </tr>\n",
       "    <tr>\n",
       "      <th>2</th>\n",
       "      <td>0</td>\n",
       "      <td>0</td>\n",
       "      <td>15</td>\n",
       "      <td>1</td>\n",
       "      <td>0</td>\n",
       "      <td>1</td>\n",
       "      <td>1</td>\n",
       "      <td>1</td>\n",
       "      <td>0</td>\n",
       "      <td>2</td>\n",
       "      <td>...</td>\n",
       "      <td>0</td>\n",
       "      <td>4</td>\n",
       "      <td>3</td>\n",
       "      <td>2</td>\n",
       "      <td>2</td>\n",
       "      <td>3</td>\n",
       "      <td>3</td>\n",
       "      <td>10</td>\n",
       "      <td>7</td>\n",
       "      <td>8</td>\n",
       "    </tr>\n",
       "    <tr>\n",
       "      <th>3</th>\n",
       "      <td>0</td>\n",
       "      <td>0</td>\n",
       "      <td>15</td>\n",
       "      <td>1</td>\n",
       "      <td>1</td>\n",
       "      <td>1</td>\n",
       "      <td>4</td>\n",
       "      <td>2</td>\n",
       "      <td>1</td>\n",
       "      <td>3</td>\n",
       "      <td>...</td>\n",
       "      <td>1</td>\n",
       "      <td>3</td>\n",
       "      <td>2</td>\n",
       "      <td>2</td>\n",
       "      <td>1</td>\n",
       "      <td>1</td>\n",
       "      <td>5</td>\n",
       "      <td>2</td>\n",
       "      <td>15</td>\n",
       "      <td>14</td>\n",
       "    </tr>\n",
       "    <tr>\n",
       "      <th>4</th>\n",
       "      <td>0</td>\n",
       "      <td>0</td>\n",
       "      <td>16</td>\n",
       "      <td>1</td>\n",
       "      <td>1</td>\n",
       "      <td>1</td>\n",
       "      <td>3</td>\n",
       "      <td>3</td>\n",
       "      <td>2</td>\n",
       "      <td>2</td>\n",
       "      <td>...</td>\n",
       "      <td>0</td>\n",
       "      <td>4</td>\n",
       "      <td>3</td>\n",
       "      <td>2</td>\n",
       "      <td>1</td>\n",
       "      <td>2</td>\n",
       "      <td>5</td>\n",
       "      <td>4</td>\n",
       "      <td>6</td>\n",
       "      <td>10</td>\n",
       "    </tr>\n",
       "  </tbody>\n",
       "</table>\n",
       "<p>5 rows × 32 columns</p>\n",
       "</div>"
      ],
      "text/plain": [
       "   school  sex  age  address  famsize  Pstatus  Medu  Fedu  Mjob  Fjob  ...  \\\n",
       "0       0    0   18        1        1        0     4     4     0     4  ...   \n",
       "1       0    0   17        1        1        1     1     1     0     2  ...   \n",
       "2       0    0   15        1        0        1     1     1     0     2  ...   \n",
       "3       0    0   15        1        1        1     4     2     1     3  ...   \n",
       "4       0    0   16        1        1        1     3     3     2     2  ...   \n",
       "\n",
       "   romantic  famrel  freetime  goout  Dalc  Walc  health  absences  G1  G2  \n",
       "0         0       4         3      4     1     1       3         6   5   6  \n",
       "1         0       5         3      3     1     1       3         4   5   5  \n",
       "2         0       4         3      2     2     3       3        10   7   8  \n",
       "3         1       3         2      2     1     1       5         2  15  14  \n",
       "4         0       4         3      2     1     2       5         4   6  10  \n",
       "\n",
       "[5 rows x 32 columns]"
      ]
     },
     "execution_count": 24,
     "metadata": {},
     "output_type": "execute_result"
    }
   ],
   "source": [
    "df_X = df_examples.loc[:, df_examples.columns!=OUTPUT_VARIABLE]\n",
    "df_X.head()"
   ]
  },
  {
   "cell_type": "markdown",
   "id": "6432b438",
   "metadata": {},
   "source": [
    "Taking target variable as output"
   ]
  },
  {
   "cell_type": "code",
   "execution_count": 25,
   "id": "eba3f0d5",
   "metadata": {},
   "outputs": [
    {
     "data": {
      "text/plain": [
       "0     6\n",
       "1     6\n",
       "2    10\n",
       "3    15\n",
       "4    10\n",
       "Name: G3, dtype: int64"
      ]
     },
     "execution_count": 25,
     "metadata": {},
     "output_type": "execute_result"
    }
   ],
   "source": [
    "df_y = df_examples.loc[:, OUTPUT_VARIABLE]\n",
    "df_y.head()"
   ]
  },
  {
   "cell_type": "markdown",
   "id": "261235d1",
   "metadata": {},
   "source": [
    "#### Split dataset into train and test sets"
   ]
  },
  {
   "cell_type": "markdown",
   "id": "df5475ac",
   "metadata": {},
   "source": [
    "Update features/columns in stratify if required"
   ]
  },
  {
   "cell_type": "code",
   "execution_count": 26,
   "id": "9f616252",
   "metadata": {},
   "outputs": [],
   "source": [
    "X_train, X_test, y_train, y_test = train_test_split(df_X, df_y, test_size=0.1, random_state=21, shuffle=True, stratify=df_examples[[\"school\", \"famsize\"]])"
   ]
  },
  {
   "cell_type": "markdown",
   "id": "51880c0c",
   "metadata": {},
   "source": [
    "### Model building and evaluation"
   ]
  },
  {
   "cell_type": "markdown",
   "id": "3abc5493",
   "metadata": {},
   "source": [
    "#### Linear Regression"
   ]
  },
  {
   "cell_type": "code",
   "execution_count": 27,
   "id": "518fc590",
   "metadata": {},
   "outputs": [],
   "source": [
    "lr = LinearRegression()"
   ]
  },
  {
   "cell_type": "code",
   "execution_count": 28,
   "id": "1310b5cc",
   "metadata": {},
   "outputs": [],
   "source": [
    "reg = lr.fit(X_train, y_train)"
   ]
  },
  {
   "cell_type": "code",
   "execution_count": 29,
   "id": "3ca1962b",
   "metadata": {},
   "outputs": [
    {
     "data": {
      "text/plain": [
       "0.8425429152370716"
      ]
     },
     "execution_count": 29,
     "metadata": {},
     "output_type": "execute_result"
    }
   ],
   "source": [
    "reg.score(X_train, y_train)"
   ]
  },
  {
   "cell_type": "code",
   "execution_count": 30,
   "id": "fb057392",
   "metadata": {},
   "outputs": [],
   "source": [
    "y_pred = lr.predict(X_test)"
   ]
  },
  {
   "cell_type": "code",
   "execution_count": 31,
   "id": "615e05f5",
   "metadata": {},
   "outputs": [
    {
     "name": "stdout",
     "output_type": "stream",
     "text": [
      "mean_squared_error:  3.585021393023437\n",
      "mean_absolute_error:  1.227135659652104\n",
      "r2_score:  0.8258259837666937\n",
      "median_absolute_error:  0.7870937008809804\n"
     ]
    }
   ],
   "source": [
    "print(\"mean_squared_error: \", metrics.mean_squared_error(y_test, y_pred))\n",
    "print(\"mean_absolute_error: \", metrics.mean_absolute_error(y_test, y_pred))\n",
    "print(\"r2_score: \", metrics.r2_score(y_test, y_pred))\n",
    "print(\"median_absolute_error: \", metrics.median_absolute_error(y_test, y_pred))"
   ]
  },
  {
   "cell_type": "markdown",
   "id": "22c5f0bb",
   "metadata": {},
   "source": [
    "#### Random Forest"
   ]
  },
  {
   "cell_type": "code",
   "execution_count": 32,
   "id": "63afb73a",
   "metadata": {},
   "outputs": [],
   "source": [
    "rfr  = RandomForestRegressor()"
   ]
  },
  {
   "cell_type": "code",
   "execution_count": 33,
   "id": "37ecec4e",
   "metadata": {},
   "outputs": [
    {
     "data": {
      "text/plain": [
       "RandomForestRegressor()"
      ]
     },
     "execution_count": 33,
     "metadata": {},
     "output_type": "execute_result"
    }
   ],
   "source": [
    "rfr.fit(X_train, y_train)"
   ]
  },
  {
   "cell_type": "code",
   "execution_count": 34,
   "id": "7b05404a",
   "metadata": {},
   "outputs": [
    {
     "data": {
      "text/plain": [
       "0.9852855655884718"
      ]
     },
     "execution_count": 34,
     "metadata": {},
     "output_type": "execute_result"
    }
   ],
   "source": [
    "rfr.score(X_train, y_train)"
   ]
  },
  {
   "cell_type": "markdown",
   "id": "f5c11a60",
   "metadata": {},
   "source": [
    "##### collect important featues"
   ]
  },
  {
   "cell_type": "code",
   "execution_count": 35,
   "id": "53b0d3ab",
   "metadata": {},
   "outputs": [],
   "source": [
    "feats = {} \n",
    "for feature, importance in zip(df_examples.columns, rfr.feature_importances_):\n",
    "    feats[feature] = importance"
   ]
  },
  {
   "cell_type": "code",
   "execution_count": 36,
   "id": "8e671ea1",
   "metadata": {
    "scrolled": true
   },
   "outputs": [
    {
     "data": {
      "text/plain": [
       "['G2',\n",
       " 'absences',\n",
       " 'age',\n",
       " 'famrel',\n",
       " 'reason',\n",
       " 'health',\n",
       " 'guardian',\n",
       " 'Mjob',\n",
       " 'G1',\n",
       " 'studytime',\n",
       " 'goout',\n",
       " 'freetime',\n",
       " 'paid',\n",
       " 'Fedu',\n",
       " 'failures',\n",
       " 'Medu',\n",
       " 'activities',\n",
       " 'Walc',\n",
       " 'Fjob',\n",
       " 'traveltime',\n",
       " 'school',\n",
       " 'schoolsup',\n",
       " 'nursery',\n",
       " 'romantic',\n",
       " 'sex',\n",
       " 'address',\n",
       " 'famsize',\n",
       " 'Dalc',\n",
       " 'famsup',\n",
       " 'internet',\n",
       " 'Pstatus',\n",
       " 'higher']"
      ]
     },
     "execution_count": 36,
     "metadata": {},
     "output_type": "execute_result"
    }
   ],
   "source": [
    "sorted(feats, key=feats.get, reverse=True)"
   ]
  },
  {
   "cell_type": "code",
   "execution_count": 37,
   "id": "1cb7293c",
   "metadata": {},
   "outputs": [],
   "source": [
    "y_pred = rfr.predict(X_test)"
   ]
  },
  {
   "cell_type": "code",
   "execution_count": 38,
   "id": "d476281e",
   "metadata": {},
   "outputs": [
    {
     "name": "stdout",
     "output_type": "stream",
     "text": [
      "mean_squared_error:  1.7438512195121951\n",
      "mean_absolute_error:  0.7451219512195123\n",
      "r2_score:  0.9152770549132948\n",
      "median_absolute_error:  0.46000000000000085\n"
     ]
    }
   ],
   "source": [
    "print(\"mean_squared_error: \", metrics.mean_squared_error(y_test, y_pred))\n",
    "print(\"mean_absolute_error: \", metrics.mean_absolute_error(y_test, y_pred))\n",
    "print(\"r2_score: \", metrics.r2_score(y_test, y_pred))\n",
    "print(\"median_absolute_error: \", metrics.median_absolute_error(y_test, y_pred))"
   ]
  },
  {
   "cell_type": "code",
   "execution_count": 39,
   "id": "e101f038",
   "metadata": {},
   "outputs": [
    {
     "data": {
      "text/plain": [
       "array([10.6 , 15.1 , 14.19, 14.11, 11.03, 15.66, 10.03,  8.88,  7.53,\n",
       "        7.33,  6.62,  1.36,  5.91, 14.02, 10.75,  8.7 ,  8.7 , 18.07,\n",
       "        9.03, 13.34,  9.67, 10.02,  4.3 ,  9.43,  9.12,  7.63, 11.7 ,\n",
       "       11.62,  8.52,  0.  , 12.67, 10.47, 12.52,  0.  ,  9.49, 12.46,\n",
       "       11.61, 18.1 , 11.22, 14.17, 12.99])"
      ]
     },
     "execution_count": 39,
     "metadata": {},
     "output_type": "execute_result"
    }
   ],
   "source": [
    "y_pred"
   ]
  },
  {
   "cell_type": "markdown",
   "id": "89026c4b",
   "metadata": {},
   "source": [
    "#### Decision Tree"
   ]
  },
  {
   "cell_type": "code",
   "execution_count": 40,
   "id": "2b598616",
   "metadata": {},
   "outputs": [
    {
     "data": {
      "text/plain": [
       "1.0"
      ]
     },
     "execution_count": 40,
     "metadata": {},
     "output_type": "execute_result"
    }
   ],
   "source": [
    "dtr = DecisionTreeRegressor()\n",
    "dtr.fit(X_train, y_train)\n",
    "dtr.score(X_train, y_train)"
   ]
  },
  {
   "cell_type": "code",
   "execution_count": 41,
   "id": "0fc61417",
   "metadata": {},
   "outputs": [],
   "source": [
    "y_pred = dtr.predict(X_test)"
   ]
  },
  {
   "cell_type": "code",
   "execution_count": 42,
   "id": "7c206765",
   "metadata": {},
   "outputs": [
    {
     "name": "stdout",
     "output_type": "stream",
     "text": [
      "mean_squared_error:  4.585365853658536\n",
      "mean_absolute_error:  1.1219512195121952\n",
      "r2_score:  0.7772254335260116\n",
      "median_absolute_error:  1.0\n"
     ]
    }
   ],
   "source": [
    "print(\"mean_squared_error: \", metrics.mean_squared_error(y_test, y_pred))\n",
    "print(\"mean_absolute_error: \", metrics.mean_absolute_error(y_test, y_pred))\n",
    "print(\"r2_score: \", metrics.r2_score(y_test, y_pred))\n",
    "print(\"median_absolute_error: \", metrics.median_absolute_error(y_test, y_pred))"
   ]
  },
  {
   "cell_type": "markdown",
   "id": "347ed55e",
   "metadata": {},
   "source": [
    "#### SVM"
   ]
  },
  {
   "cell_type": "code",
   "execution_count": 43,
   "id": "aa2f3027",
   "metadata": {},
   "outputs": [
    {
     "data": {
      "text/plain": [
       "0.8056210213313418"
      ]
     },
     "execution_count": 43,
     "metadata": {},
     "output_type": "execute_result"
    }
   ],
   "source": [
    "svr = SVR()\n",
    "svr.fit(X_train, y_train)\n",
    "svr.score(X_train, y_train)"
   ]
  },
  {
   "cell_type": "code",
   "execution_count": 44,
   "id": "caa7a851",
   "metadata": {},
   "outputs": [],
   "source": [
    "y_pred = svr.predict(X_test)"
   ]
  },
  {
   "cell_type": "code",
   "execution_count": 45,
   "id": "7b52ba64",
   "metadata": {},
   "outputs": [
    {
     "name": "stdout",
     "output_type": "stream",
     "text": [
      "mean_squared_error:  4.075189595161446\n",
      "mean_absolute_error:  1.1432833062217818\n",
      "r2_score:  0.8020117425009714\n",
      "median_absolute_error:  0.6495097017558731\n"
     ]
    }
   ],
   "source": [
    "print(\"mean_squared_error: \", metrics.mean_squared_error(y_test, y_pred))\n",
    "print(\"mean_absolute_error: \", metrics.mean_absolute_error(y_test, y_pred))\n",
    "print(\"r2_score: \", metrics.r2_score(y_test, y_pred))\n",
    "print(\"median_absolute_error: \", metrics.median_absolute_error(y_test, y_pred))"
   ]
  },
  {
   "cell_type": "markdown",
   "id": "2cc21fd3",
   "metadata": {},
   "source": [
    "#### ANN"
   ]
  },
  {
   "cell_type": "code",
   "execution_count": 46,
   "id": "0d0c6eea",
   "metadata": {},
   "outputs": [],
   "source": [
    "def build_and_compile_model():\n",
    "    model = keras.Sequential([\n",
    "#       norm,\n",
    "      layers.Input(32,),\n",
    "      layers.Dense(64, activation='relu'),\n",
    "      layers.Dense(64, activation='relu'),\n",
    "      layers.Dense(1)\n",
    "  ])\n",
    "\n",
    "    model.compile(loss='mean_absolute_error',\n",
    "                optimizer=tf.keras.optimizers.Adam(0.001))\n",
    "    return model"
   ]
  },
  {
   "cell_type": "code",
   "execution_count": 47,
   "id": "218283fc",
   "metadata": {},
   "outputs": [],
   "source": [
    "model = build_and_compile_model()"
   ]
  },
  {
   "cell_type": "code",
   "execution_count": 48,
   "id": "186878a2",
   "metadata": {},
   "outputs": [
    {
     "name": "stdout",
     "output_type": "stream",
     "text": [
      "Model: \"sequential\"\n",
      "_________________________________________________________________\n",
      "Layer (type)                 Output Shape              Param #   \n",
      "=================================================================\n",
      "dense (Dense)                (None, 64)                2112      \n",
      "_________________________________________________________________\n",
      "dense_1 (Dense)              (None, 64)                4160      \n",
      "_________________________________________________________________\n",
      "dense_2 (Dense)              (None, 1)                 65        \n",
      "=================================================================\n",
      "Total params: 6,337\n",
      "Trainable params: 6,337\n",
      "Non-trainable params: 0\n",
      "_________________________________________________________________\n"
     ]
    }
   ],
   "source": [
    "model.summary()"
   ]
  },
  {
   "cell_type": "code",
   "execution_count": 49,
   "id": "3dd4aa23",
   "metadata": {
    "scrolled": true
   },
   "outputs": [
    {
     "name": "stdout",
     "output_type": "stream",
     "text": [
      "Epoch 1/200\n",
      "12/12 [==============================] - 1s 5ms/step - loss: 7.4254\n",
      "Epoch 2/200\n",
      "12/12 [==============================] - 0s 3ms/step - loss: 3.2277\n",
      "Epoch 3/200\n",
      "12/12 [==============================] - 0s 890us/step - loss: 2.5983\n",
      "Epoch 4/200\n",
      "12/12 [==============================] - 0s 2ms/step - loss: 2.0391\n",
      "Epoch 5/200\n",
      "12/12 [==============================] - 0s 2ms/step - loss: 1.6086\n",
      "Epoch 6/200\n",
      "12/12 [==============================] - 0s 2ms/step - loss: 1.4102\n",
      "Epoch 7/200\n",
      "12/12 [==============================] - 0s 2ms/step - loss: 1.3296\n",
      "Epoch 8/200\n",
      "12/12 [==============================] - 0s 1ms/step - loss: 1.2395\n",
      "Epoch 9/200\n",
      "12/12 [==============================] - 0s 1ms/step - loss: 1.1854\n",
      "Epoch 10/200\n",
      "12/12 [==============================] - 0s 2ms/step - loss: 1.1771\n",
      "Epoch 11/200\n",
      "12/12 [==============================] - 0s 2ms/step - loss: 1.1696\n",
      "Epoch 12/200\n",
      "12/12 [==============================] - 0s 2ms/step - loss: 1.1372\n",
      "Epoch 13/200\n",
      "12/12 [==============================] - 0s 1ms/step - loss: 1.0726\n",
      "Epoch 14/200\n",
      "12/12 [==============================] - 0s 1ms/step - loss: 1.1021\n",
      "Epoch 15/200\n",
      "12/12 [==============================] - 0s 2ms/step - loss: 1.0678\n",
      "Epoch 16/200\n",
      "12/12 [==============================] - 0s 2ms/step - loss: 1.0579\n",
      "Epoch 17/200\n",
      "12/12 [==============================] - 0s 2ms/step - loss: 1.0220\n",
      "Epoch 18/200\n",
      "12/12 [==============================] - 0s 2ms/step - loss: 1.0318\n",
      "Epoch 19/200\n",
      "12/12 [==============================] - 0s 2ms/step - loss: 0.9938\n",
      "Epoch 20/200\n",
      "12/12 [==============================] - 0s 2ms/step - loss: 0.9845\n",
      "Epoch 21/200\n",
      "12/12 [==============================] - 0s 1ms/step - loss: 0.9764\n",
      "Epoch 22/200\n",
      "12/12 [==============================] - 0s 2ms/step - loss: 0.9937\n",
      "Epoch 23/200\n",
      "12/12 [==============================] - 0s 2ms/step - loss: 0.9738\n",
      "Epoch 24/200\n",
      "12/12 [==============================] - 0s 2ms/step - loss: 0.9691\n",
      "Epoch 25/200\n",
      "12/12 [==============================] - 0s 2ms/step - loss: 0.9478\n",
      "Epoch 26/200\n",
      "12/12 [==============================] - 0s 2ms/step - loss: 0.9512\n",
      "Epoch 27/200\n",
      "12/12 [==============================] - 0s 2ms/step - loss: 0.9710\n",
      "Epoch 28/200\n",
      "12/12 [==============================] - 0s 1ms/step - loss: 0.9428\n",
      "Epoch 29/200\n",
      "12/12 [==============================] - 0s 2ms/step - loss: 0.9563\n",
      "Epoch 30/200\n",
      "12/12 [==============================] - 0s 1ms/step - loss: 0.9345\n",
      "Epoch 31/200\n",
      "12/12 [==============================] - 0s 2ms/step - loss: 0.9771\n",
      "Epoch 32/200\n",
      "12/12 [==============================] - 0s 1ms/step - loss: 0.9520\n",
      "Epoch 33/200\n",
      "12/12 [==============================] - 0s 2ms/step - loss: 0.9469\n",
      "Epoch 34/200\n",
      "12/12 [==============================] - 0s 1ms/step - loss: 0.9726\n",
      "Epoch 35/200\n",
      "12/12 [==============================] - 0s 2ms/step - loss: 0.9007\n",
      "Epoch 36/200\n",
      "12/12 [==============================] - 0s 2ms/step - loss: 0.8995\n",
      "Epoch 37/200\n",
      "12/12 [==============================] - 0s 2ms/step - loss: 0.8829\n",
      "Epoch 38/200\n",
      "12/12 [==============================] - 0s 2ms/step - loss: 0.8796\n",
      "Epoch 39/200\n",
      "12/12 [==============================] - 0s 2ms/step - loss: 0.8642\n",
      "Epoch 40/200\n",
      "12/12 [==============================] - 0s 2ms/step - loss: 0.8606\n",
      "Epoch 41/200\n",
      "12/12 [==============================] - 0s 2ms/step - loss: 0.8466\n",
      "Epoch 42/200\n",
      "12/12 [==============================] - 0s 2ms/step - loss: 0.8389\n",
      "Epoch 43/200\n",
      "12/12 [==============================] - 0s 1ms/step - loss: 0.8644\n",
      "Epoch 44/200\n",
      "12/12 [==============================] - 0s 1ms/step - loss: 0.9154\n",
      "Epoch 45/200\n",
      "12/12 [==============================] - 0s 1ms/step - loss: 0.8534\n",
      "Epoch 46/200\n",
      "12/12 [==============================] - 0s 1ms/step - loss: 0.8241\n",
      "Epoch 47/200\n",
      "12/12 [==============================] - 0s 2ms/step - loss: 0.8143\n",
      "Epoch 48/200\n",
      "12/12 [==============================] - 0s 2ms/step - loss: 0.8685\n",
      "Epoch 49/200\n",
      "12/12 [==============================] - 0s 1ms/step - loss: 0.8495\n",
      "Epoch 50/200\n",
      "12/12 [==============================] - 0s 1ms/step - loss: 0.8045\n",
      "Epoch 51/200\n",
      "12/12 [==============================] - 0s 2ms/step - loss: 0.8301\n",
      "Epoch 52/200\n",
      "12/12 [==============================] - 0s 1ms/step - loss: 0.7819\n",
      "Epoch 53/200\n",
      "12/12 [==============================] - 0s 1ms/step - loss: 0.7919\n",
      "Epoch 54/200\n",
      "12/12 [==============================] - 0s 1ms/step - loss: 0.7960\n",
      "Epoch 55/200\n",
      "12/12 [==============================] - 0s 1ms/step - loss: 0.8138\n",
      "Epoch 56/200\n",
      "12/12 [==============================] - 0s 2ms/step - loss: 0.7828\n",
      "Epoch 57/200\n",
      "12/12 [==============================] - 0s 1ms/step - loss: 0.7651\n",
      "Epoch 58/200\n",
      "12/12 [==============================] - 0s 1ms/step - loss: 0.7647\n",
      "Epoch 59/200\n",
      "12/12 [==============================] - 0s 1ms/step - loss: 0.8200\n",
      "Epoch 60/200\n",
      "12/12 [==============================] - 0s 2ms/step - loss: 0.7646\n",
      "Epoch 61/200\n",
      "12/12 [==============================] - 0s 1ms/step - loss: 0.7394\n",
      "Epoch 62/200\n",
      "12/12 [==============================] - 0s 869us/step - loss: 0.7088\n",
      "Epoch 63/200\n",
      "12/12 [==============================] - 0s 1ms/step - loss: 0.7359\n",
      "Epoch 64/200\n",
      "12/12 [==============================] - 0s 955us/step - loss: 0.7297\n",
      "Epoch 65/200\n",
      "12/12 [==============================] - 0s 2ms/step - loss: 0.7064\n",
      "Epoch 66/200\n",
      "12/12 [==============================] - 0s 1ms/step - loss: 0.7060\n",
      "Epoch 67/200\n",
      "12/12 [==============================] - 0s 2ms/step - loss: 0.6864\n",
      "Epoch 68/200\n",
      "12/12 [==============================] - 0s 1ms/step - loss: 0.7098\n",
      "Epoch 69/200\n",
      "12/12 [==============================] - 0s 1ms/step - loss: 0.6997\n",
      "Epoch 70/200\n",
      "12/12 [==============================] - 0s 1ms/step - loss: 0.6551\n",
      "Epoch 71/200\n",
      "12/12 [==============================] - 0s 1ms/step - loss: 0.6748\n",
      "Epoch 72/200\n",
      "12/12 [==============================] - 0s 1ms/step - loss: 0.6593\n",
      "Epoch 73/200\n",
      "12/12 [==============================] - 0s 1ms/step - loss: 0.7018\n",
      "Epoch 74/200\n",
      "12/12 [==============================] - 0s 1ms/step - loss: 0.6697\n",
      "Epoch 75/200\n",
      "12/12 [==============================] - 0s 787us/step - loss: 0.6454\n",
      "Epoch 76/200\n",
      "12/12 [==============================] - 0s 1ms/step - loss: 0.6419\n",
      "Epoch 77/200\n",
      "12/12 [==============================] - 0s 926us/step - loss: 0.6275\n",
      "Epoch 78/200\n",
      "12/12 [==============================] - 0s 1ms/step - loss: 0.6480\n",
      "Epoch 79/200\n",
      "12/12 [==============================] - 0s 2ms/step - loss: 0.6514\n",
      "Epoch 80/200\n",
      "12/12 [==============================] - 0s 981us/step - loss: 0.6282\n",
      "Epoch 81/200\n",
      "12/12 [==============================] - 0s 1ms/step - loss: 0.6412\n",
      "Epoch 82/200\n",
      "12/12 [==============================] - 0s 1ms/step - loss: 0.6440\n",
      "Epoch 83/200\n",
      "12/12 [==============================] - 0s 1ms/step - loss: 0.6633\n",
      "Epoch 84/200\n",
      "12/12 [==============================] - 0s 1ms/step - loss: 0.6212\n",
      "Epoch 85/200\n",
      "12/12 [==============================] - 0s 1ms/step - loss: 0.6103\n",
      "Epoch 86/200\n",
      "12/12 [==============================] - 0s 1ms/step - loss: 0.5876\n",
      "Epoch 87/200\n",
      "12/12 [==============================] - 0s 381us/step - loss: 0.5877\n",
      "Epoch 88/200\n",
      "12/12 [==============================] - 0s 2ms/step - loss: 0.5927\n",
      "Epoch 89/200\n",
      "12/12 [==============================] - 0s 2ms/step - loss: 0.5785\n",
      "Epoch 90/200\n",
      "12/12 [==============================] - 0s 2ms/step - loss: 0.5917\n",
      "Epoch 91/200\n",
      "12/12 [==============================] - 0s 1ms/step - loss: 0.6427\n",
      "Epoch 92/200\n",
      "12/12 [==============================] - 0s 2ms/step - loss: 0.6450\n",
      "Epoch 93/200\n",
      "12/12 [==============================] - 0s 1ms/step - loss: 0.6059\n",
      "Epoch 94/200\n",
      "12/12 [==============================] - 0s 1ms/step - loss: 0.5748\n",
      "Epoch 95/200\n",
      "12/12 [==============================] - 0s 1ms/step - loss: 0.6071\n",
      "Epoch 96/200\n",
      "12/12 [==============================] - 0s 1ms/step - loss: 0.6128\n",
      "Epoch 97/200\n",
      "12/12 [==============================] - 0s 1ms/step - loss: 0.5791\n",
      "Epoch 98/200\n",
      "12/12 [==============================] - 0s 1ms/step - loss: 0.5641\n",
      "Epoch 99/200\n",
      "12/12 [==============================] - 0s 988us/step - loss: 0.5597\n",
      "Epoch 100/200\n",
      "12/12 [==============================] - 0s 905us/step - loss: 0.5518\n",
      "Epoch 101/200\n",
      "12/12 [==============================] - 0s 1ms/step - loss: 0.5526\n",
      "Epoch 102/200\n"
     ]
    },
    {
     "name": "stdout",
     "output_type": "stream",
     "text": [
      "12/12 [==============================] - 0s 1ms/step - loss: 0.5435\n",
      "Epoch 103/200\n",
      "12/12 [==============================] - 0s 2ms/step - loss: 0.5426\n",
      "Epoch 104/200\n",
      "12/12 [==============================] - 0s 2ms/step - loss: 0.5363\n",
      "Epoch 105/200\n",
      "12/12 [==============================] - 0s 3ms/step - loss: 0.5191\n",
      "Epoch 106/200\n",
      "12/12 [==============================] - 0s 2ms/step - loss: 0.5376\n",
      "Epoch 107/200\n",
      "12/12 [==============================] - 0s 2ms/step - loss: 0.5204\n",
      "Epoch 108/200\n",
      "12/12 [==============================] - 0s 2ms/step - loss: 0.5385\n",
      "Epoch 109/200\n",
      "12/12 [==============================] - 0s 960us/step - loss: 0.5241\n",
      "Epoch 110/200\n",
      "12/12 [==============================] - 0s 2ms/step - loss: 0.5783\n",
      "Epoch 111/200\n",
      "12/12 [==============================] - 0s 1ms/step - loss: 0.5316\n",
      "Epoch 112/200\n",
      "12/12 [==============================] - 0s 837us/step - loss: 0.5171\n",
      "Epoch 113/200\n",
      "12/12 [==============================] - 0s 727us/step - loss: 0.5183\n",
      "Epoch 114/200\n",
      "12/12 [==============================] - 0s 961us/step - loss: 0.5429\n",
      "Epoch 115/200\n",
      "12/12 [==============================] - 0s 2ms/step - loss: 0.5181\n",
      "Epoch 116/200\n",
      "12/12 [==============================] - 0s 2ms/step - loss: 0.5024\n",
      "Epoch 117/200\n",
      "12/12 [==============================] - 0s 2ms/step - loss: 0.5007\n",
      "Epoch 118/200\n",
      "12/12 [==============================] - 0s 2ms/step - loss: 0.5538\n",
      "Epoch 119/200\n",
      "12/12 [==============================] - 0s 2ms/step - loss: 0.5429\n",
      "Epoch 120/200\n",
      "12/12 [==============================] - 0s 2ms/step - loss: 0.5313\n",
      "Epoch 121/200\n",
      "12/12 [==============================] - 0s 2ms/step - loss: 0.5543\n",
      "Epoch 122/200\n",
      "12/12 [==============================] - 0s 2ms/step - loss: 0.5181\n",
      "Epoch 123/200\n",
      "12/12 [==============================] - 0s 2ms/step - loss: 0.4961\n",
      "Epoch 124/200\n",
      "12/12 [==============================] - 0s 2ms/step - loss: 0.4885\n",
      "Epoch 125/200\n",
      "12/12 [==============================] - 0s 2ms/step - loss: 0.4941\n",
      "Epoch 126/200\n",
      "12/12 [==============================] - 0s 2ms/step - loss: 0.4710\n",
      "Epoch 127/200\n",
      "12/12 [==============================] - 0s 2ms/step - loss: 0.5159\n",
      "Epoch 128/200\n",
      "12/12 [==============================] - 0s 2ms/step - loss: 0.4733\n",
      "Epoch 129/200\n",
      "12/12 [==============================] - 0s 2ms/step - loss: 0.4777\n",
      "Epoch 130/200\n",
      "12/12 [==============================] - 0s 912us/step - loss: 0.4924\n",
      "Epoch 131/200\n",
      "12/12 [==============================] - 0s 2ms/step - loss: 0.4683\n",
      "Epoch 132/200\n",
      "12/12 [==============================] - 0s 1ms/step - loss: 0.5043\n",
      "Epoch 133/200\n",
      "12/12 [==============================] - 0s 2ms/step - loss: 0.5398\n",
      "Epoch 134/200\n",
      "12/12 [==============================] - 0s 1ms/step - loss: 0.4827\n",
      "Epoch 135/200\n",
      "12/12 [==============================] - 0s 2ms/step - loss: 0.4712\n",
      "Epoch 136/200\n",
      "12/12 [==============================] - 0s 1ms/step - loss: 0.4686\n",
      "Epoch 137/200\n",
      "12/12 [==============================] - 0s 1ms/step - loss: 0.4633\n",
      "Epoch 138/200\n",
      "12/12 [==============================] - 0s 1ms/step - loss: 0.5021\n",
      "Epoch 139/200\n",
      "12/12 [==============================] - 0s 2ms/step - loss: 0.4921\n",
      "Epoch 140/200\n",
      "12/12 [==============================] - 0s 816us/step - loss: 0.4944\n",
      "Epoch 141/200\n",
      "12/12 [==============================] - 0s 2ms/step - loss: 0.4890\n",
      "Epoch 142/200\n",
      "12/12 [==============================] - 0s 2ms/step - loss: 0.4865\n",
      "Epoch 143/200\n",
      "12/12 [==============================] - 0s 2ms/step - loss: 0.4804\n",
      "Epoch 144/200\n",
      "12/12 [==============================] - 0s 2ms/step - loss: 0.4758\n",
      "Epoch 145/200\n",
      "12/12 [==============================] - 0s 2ms/step - loss: 0.4895\n",
      "Epoch 146/200\n",
      "12/12 [==============================] - ETA: 0s - loss: 0.435 - 0s 2ms/step - loss: 0.4794\n",
      "Epoch 147/200\n",
      "12/12 [==============================] - 0s 2ms/step - loss: 0.4521\n",
      "Epoch 148/200\n",
      "12/12 [==============================] - 0s 1ms/step - loss: 0.4740\n",
      "Epoch 149/200\n",
      "12/12 [==============================] - 0s 2ms/step - loss: 0.4533\n",
      "Epoch 150/200\n",
      "12/12 [==============================] - 0s 2ms/step - loss: 0.4301\n",
      "Epoch 151/200\n",
      "12/12 [==============================] - 0s 2ms/step - loss: 0.4372\n",
      "Epoch 152/200\n",
      "12/12 [==============================] - 0s 2ms/step - loss: 0.4909\n",
      "Epoch 153/200\n",
      "12/12 [==============================] - 0s 1ms/step - loss: 0.4694\n",
      "Epoch 154/200\n",
      "12/12 [==============================] - 0s 2ms/step - loss: 0.4577\n",
      "Epoch 155/200\n",
      "12/12 [==============================] - 0s 3ms/step - loss: 0.5150\n",
      "Epoch 156/200\n",
      "12/12 [==============================] - 0s 2ms/step - loss: 0.4529\n",
      "Epoch 157/200\n",
      "12/12 [==============================] - 0s 1ms/step - loss: 0.4397\n",
      "Epoch 158/200\n",
      "12/12 [==============================] - 0s 1ms/step - loss: 0.4222\n",
      "Epoch 159/200\n",
      "12/12 [==============================] - 0s 1ms/step - loss: 0.4170\n",
      "Epoch 160/200\n",
      "12/12 [==============================] - 0s 624us/step - loss: 0.4284\n",
      "Epoch 161/200\n",
      "12/12 [==============================] - 0s 1ms/step - loss: 0.4341\n",
      "Epoch 162/200\n",
      "12/12 [==============================] - 0s 1ms/step - loss: 0.4362\n",
      "Epoch 163/200\n",
      "12/12 [==============================] - 0s 1ms/step - loss: 0.4239\n",
      "Epoch 164/200\n",
      "12/12 [==============================] - 0s 2ms/step - loss: 0.5080\n",
      "Epoch 165/200\n",
      "12/12 [==============================] - 0s 2ms/step - loss: 0.4620\n",
      "Epoch 166/200\n",
      "12/12 [==============================] - 0s 2ms/step - loss: 0.4522\n",
      "Epoch 167/200\n",
      "12/12 [==============================] - 0s 2ms/step - loss: 0.4805\n",
      "Epoch 168/200\n",
      "12/12 [==============================] - 0s 2ms/step - loss: 0.4291\n",
      "Epoch 169/200\n",
      "12/12 [==============================] - 0s 639us/step - loss: 0.4105\n",
      "Epoch 170/200\n",
      "12/12 [==============================] - 0s 565us/step - loss: 0.4071\n",
      "Epoch 171/200\n",
      "12/12 [==============================] - 0s 757us/step - loss: 0.4276\n",
      "Epoch 172/200\n",
      "12/12 [==============================] - 0s 2ms/step - loss: 0.4262\n",
      "Epoch 173/200\n",
      "12/12 [==============================] - 0s 1ms/step - loss: 0.4527\n",
      "Epoch 174/200\n",
      "12/12 [==============================] - 0s 2ms/step - loss: 0.5123\n",
      "Epoch 175/200\n",
      "12/12 [==============================] - 0s 1ms/step - loss: 0.4707\n",
      "Epoch 176/200\n",
      "12/12 [==============================] - 0s 3ms/step - loss: 0.4966\n",
      "Epoch 177/200\n",
      "12/12 [==============================] - 0s 2ms/step - loss: 0.4813\n",
      "Epoch 178/200\n",
      "12/12 [==============================] - 0s 2ms/step - loss: 0.4431\n",
      "Epoch 179/200\n",
      "12/12 [==============================] - 0s 2ms/step - loss: 0.4389\n",
      "Epoch 180/200\n",
      "12/12 [==============================] - 0s 3ms/step - loss: 0.4227\n",
      "Epoch 181/200\n",
      "12/12 [==============================] - 0s 2ms/step - loss: 0.3890\n",
      "Epoch 182/200\n",
      "12/12 [==============================] - 0s 2ms/step - loss: 0.3901\n",
      "Epoch 183/200\n",
      "12/12 [==============================] - 0s 1ms/step - loss: 0.3863\n",
      "Epoch 184/200\n",
      "12/12 [==============================] - 0s 2ms/step - loss: 0.4218\n",
      "Epoch 185/200\n",
      "12/12 [==============================] - 0s 713us/step - loss: 0.3925\n",
      "Epoch 186/200\n",
      "12/12 [==============================] - 0s 1ms/step - loss: 0.3990\n",
      "Epoch 187/200\n",
      "12/12 [==============================] - 0s 2ms/step - loss: 0.4372\n",
      "Epoch 188/200\n",
      "12/12 [==============================] - 0s 2ms/step - loss: 0.4268\n",
      "Epoch 189/200\n",
      "12/12 [==============================] - 0s 2ms/step - loss: 0.4221\n",
      "Epoch 190/200\n",
      "12/12 [==============================] - 0s 2ms/step - loss: 0.4086\n",
      "Epoch 191/200\n",
      "12/12 [==============================] - 0s 2ms/step - loss: 0.4205\n",
      "Epoch 192/200\n",
      "12/12 [==============================] - 0s 2ms/step - loss: 0.4272\n",
      "Epoch 193/200\n",
      "12/12 [==============================] - 0s 2ms/step - loss: 0.4078\n",
      "Epoch 194/200\n",
      "12/12 [==============================] - 0s 2ms/step - loss: 0.3678\n",
      "Epoch 195/200\n",
      "12/12 [==============================] - 0s 1ms/step - loss: 0.3759\n",
      "Epoch 196/200\n",
      "12/12 [==============================] - 0s 1ms/step - loss: 0.4300\n",
      "Epoch 197/200\n",
      "12/12 [==============================] - 0s 1ms/step - loss: 0.4145\n",
      "Epoch 198/200\n",
      "12/12 [==============================] - 0s 943us/step - loss: 0.3731\n",
      "Epoch 199/200\n",
      "12/12 [==============================] - 0s 1ms/step - loss: 0.3598\n",
      "Epoch 200/200\n",
      "12/12 [==============================] - 0s 1ms/step - loss: 0.4064\n",
      "Wall time: 5.75 s\n"
     ]
    }
   ],
   "source": [
    "%%time\n",
    "history = model.fit(\n",
    "    x=X_train,\n",
    "    y=y_train,\n",
    "#     validation_split=0.2,\n",
    "#     verbose=1,\n",
    "    epochs=200)"
   ]
  },
  {
   "cell_type": "code",
   "execution_count": 50,
   "id": "16412ec5",
   "metadata": {},
   "outputs": [],
   "source": [
    "# def plot_loss(history):\n",
    "#   plt.plot(history.history['loss'], label='loss')\n",
    "#   plt.plot(history.history['val_loss'], label='val_loss')\n",
    "#   plt.ylim([0, 10])\n",
    "#   plt.xlabel('Epoch')\n",
    "#   plt.ylabel('Error [MPG]')\n",
    "#   plt.legend()\n",
    "#   plt.grid(True)"
   ]
  },
  {
   "cell_type": "code",
   "execution_count": 51,
   "id": "0266737d",
   "metadata": {},
   "outputs": [],
   "source": [
    "# plot_loss(history)"
   ]
  },
  {
   "cell_type": "code",
   "execution_count": 52,
   "id": "a625b830",
   "metadata": {},
   "outputs": [
    {
     "name": "stdout",
     "output_type": "stream",
     "text": [
      "r2_score:  0.9780346451434129\n"
     ]
    }
   ],
   "source": [
    "y_pred_train = model.predict(X_train)\n",
    "print(\"r2_score: \", metrics.r2_score(y_train, y_pred_train))"
   ]
  },
  {
   "cell_type": "code",
   "execution_count": 53,
   "id": "b71f4e10",
   "metadata": {},
   "outputs": [],
   "source": [
    "y_pred = model.predict(X_test)"
   ]
  },
  {
   "cell_type": "code",
   "execution_count": 54,
   "id": "934c0233",
   "metadata": {},
   "outputs": [
    {
     "name": "stdout",
     "output_type": "stream",
     "text": [
      "mean_squared_error:  2.162352639176306\n",
      "mean_absolute_error:  0.9200179711347674\n",
      "r2_score:  0.8949446593510009\n",
      "median_absolute_error:  0.6112346649169922\n"
     ]
    }
   ],
   "source": [
    "print(\"mean_squared_error: \", metrics.mean_squared_error(y_test, y_pred))\n",
    "print(\"mean_absolute_error: \", metrics.mean_absolute_error(y_test, y_pred))\n",
    "print(\"r2_score: \", metrics.r2_score(y_test, y_pred))\n",
    "print(\"median_absolute_error: \", metrics.median_absolute_error(y_test, y_pred))"
   ]
  },
  {
   "cell_type": "markdown",
   "id": "523fd15b",
   "metadata": {},
   "source": [
    "#### Recommendation"
   ]
  },
  {
   "cell_type": "markdown",
   "id": "907b82f6",
   "metadata": {},
   "source": [
    "    G1 - first period grade (numeric: from 0 to 20)\n",
    "    G2 - second period grade (numeric: from 0 to 20)\n",
    "    G3 - final grade (numeric: from 0 to 20, output target)\n",
    "   \n",
    "Criteria to recommend the subject, Math for higher education\n",
    "    \n",
    " G1 + G2 + G3(predicted) >= Max obtainable grade in a test(20)"
   ]
  },
  {
   "cell_type": "code",
   "execution_count": 55,
   "id": "25715589",
   "metadata": {
    "scrolled": true
   },
   "outputs": [],
   "source": [
    "df_pred = pd.DataFrame(y_pred.tolist(), columns=[\"pred\"])"
   ]
  },
  {
   "cell_type": "code",
   "execution_count": 56,
   "id": "f6351ed3",
   "metadata": {},
   "outputs": [],
   "source": [
    "# np.add(X_test.G1, X_test.G2)"
   ]
  },
  {
   "cell_type": "code",
   "execution_count": 57,
   "id": "8bc79662",
   "metadata": {},
   "outputs": [],
   "source": [
    "lists = [X_test.G1.to_list(), X_test.G2.to_list(), df_pred.pred.to_list()]"
   ]
  },
  {
   "cell_type": "code",
   "execution_count": 58,
   "id": "9d30a539",
   "metadata": {},
   "outputs": [
    {
     "data": {
      "text/plain": [
       "array([ 0,  1,  2,  3,  4,  5,  6,  7,  8,  9, 10, 13, 14, 15, 16, 17, 18,\n",
       "       19, 20, 21, 22, 23, 24, 25, 26, 27, 28, 30, 31, 32, 34, 35, 36, 37,\n",
       "       38, 39, 40], dtype=int64)"
      ]
     },
     "execution_count": 58,
     "metadata": {},
     "output_type": "execute_result"
    }
   ],
   "source": [
    "tot_grad = list(map(sum, zip(*lists)))\n",
    "np.where(np.array(tot_grad) >= 20)[0]"
   ]
  },
  {
   "cell_type": "code",
   "execution_count": 59,
   "id": "9c57d966",
   "metadata": {},
   "outputs": [
    {
     "data": {
      "text/plain": [
       "(array([11, 12, 29, 33], dtype=int64),)"
      ]
     },
     "execution_count": 59,
     "metadata": {},
     "output_type": "execute_result"
    }
   ],
   "source": [
    "np.where(np.array(tot_grad) < 20)"
   ]
  },
  {
   "cell_type": "code",
   "execution_count": 60,
   "id": "3b3b82d5",
   "metadata": {},
   "outputs": [
    {
     "data": {
      "text/html": [
       "<div>\n",
       "<style scoped>\n",
       "    .dataframe tbody tr th:only-of-type {\n",
       "        vertical-align: middle;\n",
       "    }\n",
       "\n",
       "    .dataframe tbody tr th {\n",
       "        vertical-align: top;\n",
       "    }\n",
       "\n",
       "    .dataframe thead th {\n",
       "        text-align: right;\n",
       "    }\n",
       "</style>\n",
       "<table border=\"1\" class=\"dataframe\">\n",
       "  <thead>\n",
       "    <tr style=\"text-align: right;\">\n",
       "      <th></th>\n",
       "      <th>index</th>\n",
       "      <th>school</th>\n",
       "      <th>sex</th>\n",
       "      <th>age</th>\n",
       "      <th>address</th>\n",
       "      <th>famsize</th>\n",
       "      <th>Pstatus</th>\n",
       "      <th>Medu</th>\n",
       "      <th>Fedu</th>\n",
       "      <th>Mjob</th>\n",
       "      <th>...</th>\n",
       "      <th>romantic</th>\n",
       "      <th>famrel</th>\n",
       "      <th>freetime</th>\n",
       "      <th>goout</th>\n",
       "      <th>Dalc</th>\n",
       "      <th>Walc</th>\n",
       "      <th>health</th>\n",
       "      <th>absences</th>\n",
       "      <th>G1</th>\n",
       "      <th>G2</th>\n",
       "    </tr>\n",
       "  </thead>\n",
       "  <tbody>\n",
       "    <tr>\n",
       "      <th>11</th>\n",
       "      <td>251</td>\n",
       "      <td>0</td>\n",
       "      <td>0</td>\n",
       "      <td>18</td>\n",
       "      <td>1</td>\n",
       "      <td>1</td>\n",
       "      <td>1</td>\n",
       "      <td>2</td>\n",
       "      <td>1</td>\n",
       "      <td>2</td>\n",
       "      <td>...</td>\n",
       "      <td>1</td>\n",
       "      <td>4</td>\n",
       "      <td>4</td>\n",
       "      <td>4</td>\n",
       "      <td>1</td>\n",
       "      <td>1</td>\n",
       "      <td>3</td>\n",
       "      <td>0</td>\n",
       "      <td>7</td>\n",
       "      <td>0</td>\n",
       "    </tr>\n",
       "    <tr>\n",
       "      <th>12</th>\n",
       "      <td>173</td>\n",
       "      <td>0</td>\n",
       "      <td>0</td>\n",
       "      <td>16</td>\n",
       "      <td>1</td>\n",
       "      <td>1</td>\n",
       "      <td>1</td>\n",
       "      <td>2</td>\n",
       "      <td>2</td>\n",
       "      <td>2</td>\n",
       "      <td>...</td>\n",
       "      <td>0</td>\n",
       "      <td>5</td>\n",
       "      <td>1</td>\n",
       "      <td>5</td>\n",
       "      <td>1</td>\n",
       "      <td>1</td>\n",
       "      <td>4</td>\n",
       "      <td>0</td>\n",
       "      <td>6</td>\n",
       "      <td>7</td>\n",
       "    </tr>\n",
       "    <tr>\n",
       "      <th>29</th>\n",
       "      <td>131</td>\n",
       "      <td>0</td>\n",
       "      <td>1</td>\n",
       "      <td>18</td>\n",
       "      <td>0</td>\n",
       "      <td>1</td>\n",
       "      <td>1</td>\n",
       "      <td>2</td>\n",
       "      <td>2</td>\n",
       "      <td>3</td>\n",
       "      <td>...</td>\n",
       "      <td>0</td>\n",
       "      <td>3</td>\n",
       "      <td>3</td>\n",
       "      <td>3</td>\n",
       "      <td>1</td>\n",
       "      <td>2</td>\n",
       "      <td>4</td>\n",
       "      <td>0</td>\n",
       "      <td>7</td>\n",
       "      <td>4</td>\n",
       "    </tr>\n",
       "    <tr>\n",
       "      <th>33</th>\n",
       "      <td>148</td>\n",
       "      <td>0</td>\n",
       "      <td>1</td>\n",
       "      <td>17</td>\n",
       "      <td>1</td>\n",
       "      <td>1</td>\n",
       "      <td>1</td>\n",
       "      <td>2</td>\n",
       "      <td>1</td>\n",
       "      <td>2</td>\n",
       "      <td>...</td>\n",
       "      <td>0</td>\n",
       "      <td>5</td>\n",
       "      <td>4</td>\n",
       "      <td>5</td>\n",
       "      <td>1</td>\n",
       "      <td>2</td>\n",
       "      <td>5</td>\n",
       "      <td>0</td>\n",
       "      <td>5</td>\n",
       "      <td>0</td>\n",
       "    </tr>\n",
       "  </tbody>\n",
       "</table>\n",
       "<p>4 rows × 33 columns</p>\n",
       "</div>"
      ],
      "text/plain": [
       "    index  school  sex  age  address  famsize  Pstatus  Medu  Fedu  Mjob  ...  \\\n",
       "11    251       0    0   18        1        1        1     2     1     2  ...   \n",
       "12    173       0    0   16        1        1        1     2     2     2  ...   \n",
       "29    131       0    1   18        0        1        1     2     2     3  ...   \n",
       "33    148       0    1   17        1        1        1     2     1     2  ...   \n",
       "\n",
       "    romantic  famrel  freetime  goout  Dalc  Walc  health  absences  G1  G2  \n",
       "11         1       4         4      4     1     1       3         0   7   0  \n",
       "12         0       5         1      5     1     1       4         0   6   7  \n",
       "29         0       3         3      3     1     2       4         0   7   4  \n",
       "33         0       5         4      5     1     2       5         0   5   0  \n",
       "\n",
       "[4 rows x 33 columns]"
      ]
     },
     "execution_count": 60,
     "metadata": {},
     "output_type": "execute_result"
    }
   ],
   "source": [
    "X_test.reset_index().loc[np.where(np.array(tot_grad) < 20)[0]]"
   ]
  },
  {
   "cell_type": "code",
   "execution_count": null,
   "id": "03cbdfd8",
   "metadata": {},
   "outputs": [],
   "source": []
  }
 ],
 "metadata": {
  "kernelspec": {
   "display_name": "Python 3 (ipykernel)",
   "language": "python",
   "name": "python3"
  },
  "language_info": {
   "codemirror_mode": {
    "name": "ipython",
    "version": 3
   },
   "file_extension": ".py",
   "mimetype": "text/x-python",
   "name": "python",
   "nbconvert_exporter": "python",
   "pygments_lexer": "ipython3",
   "version": "3.9.6"
  }
 },
 "nbformat": 4,
 "nbformat_minor": 5
}
